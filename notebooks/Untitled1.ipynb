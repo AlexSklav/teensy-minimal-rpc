{
 "cells": [
  {
   "cell_type": "markdown",
   "metadata": {},
   "source": [
    "1) $\\vec{\\ell_{IM}}$, $\\vec{\\ell_{OM}}$"
   ]
  },
  {
   "cell_type": "markdown",
   "metadata": {},
   "source": [
    "2) $\\vec{\\ell_{I}}$, $\\vec{\\ell_{O}}$\n",
    "\n",
    "\\begin{align}\n",
    "f_t &= v \\mapsto \\left(\\frac{v}{d_{max}}\\right)^\\epsilon v \\\\\n",
    "\\vec{t_{I}} &= map \\left(f_t, \\vec{\\ell_{I}}\\right) \\\\\n",
    "\\mathbb{T}_c &= sum \\left(\\vec{t_{I}}\\right)\n",
    "\\end{align}"
   ]
  },
  {
   "cell_type": "markdown",
   "metadata": {},
   "source": [
    "3)\n",
    "\n",
    "\\begin{align}\n",
    "\\vec{i_{I}}, \\vec{\\delta_{I}} &= \\left(\\vec{t_{I}}^{\\prime} - \\vec{t_{I}}\\right).sumby\\left(\\vec{v_{IC}}\\right) \\\\\n",
    "\\vec{i_{O}}, \\vec{\\delta_{O}} &= \\left(\\vec{t_{O}}^{\\prime} - \\vec{t_{O}}\\right).sumby\\left(\\vec{v_{OC}}\\right) \\\\\n",
    "\\vec{\\delta_T} &= 0, \\vec{\\delta_T} \\in \\mathbb{R}^m \\\\\n",
    "\\vec{\\delta_T}\\left[\\vec{i_{I}}\\right] &\\gets \\vec{\\delta_T}\\left[\\vec{i_{I}}\\right] + \\vec{\\delta_{I}} \\\\\n",
    "\\vec{\\delta_T}\\left[\\vec{o_{I}}\\right] &\\gets \\vec{\\delta_T}\\left[\\vec{o_{I}}\\right] + \\vec{\\delta_{O}} \\\\\n",
    "\\end{align}"
   ]
  },
  {
   "cell_type": "markdown",
   "metadata": {},
   "source": [
    "3)\n",
    "\n",
    "\\begin{align}\n",
    "\\vec{u_{IC}}, \\vec{v_{IC}} &= u_C, v_C \\\\\n",
    "\\vec{u_{OC}}, \\vec{v_{OC}} &= u_C, v_C \\\\\n",
    "\\vec{\\ell_{IM}} &= \\texttt{max_incoming...}\\left(\\vec{b_I}, \\vec{b_r}, \\vec{u_{CI}}, \\vec{v_{CI}}, \\vec{L_{CI}}, \\vec{p}\\right) \\\\\n",
    "\\vec{\\ell_{OM}} &= \\texttt{max_incoming...}\\left(\\vec{b_O}, \\vec{b_r}, \\vec{u_{CO}}, \\vec{v_{CO}}, \\vec{L_{CO}}, \\vec{p}\\right) \\\\\n",
    "\\end{align}"
   ]
  },
  {
   "cell_type": "markdown",
   "metadata": {},
   "source": [
    "\\begin{align}\n",
    "f_{Id} &= (u, v) \\mapsto \\begin{cases}delay(\\vec{p}[u], \\vec{p}[v]), & if \\vec{b_r}[u] = 1\\\\ \\vec{\\ell_{IM}}[u] + delay(\\vec{p}[u], \\vec{p}[v]), & otherwise\\end{cases} \\\\\n",
    "f^{\\prime}_{Id} &= (u, v) \\mapsto \\begin{cases}delay(\\vec{p}[u], \\vec{p^{\\prime}}[v]), & if \\vec{b_r}[u] = 1\\\\ \\vec{\\ell_{IM}}[u] + delay(\\vec{p}[u], \\vec{p^{\\prime}}[v]), & otherwise\\end{cases} \\\\\n",
    "f_{Od} &= (u, v) \\mapsto \\begin{cases}delay(\\vec{p}[u], \\vec{p}[v]), & if \\vec{b_r}[u] = 1\\\\ \\vec{\\ell_{OM}}[v] + delay(\\vec{p}[u], \\vec{p}[v]), & otherwise\\end{cases} \\\\\n",
    "f^{\\prime}_{Od} &= (u, v) \\mapsto \\begin{cases}delay(\\vec{p^{\\prime}}[u], \\vec{p}[v]), & if \\vec{b_r}[u] = 1\\\\ \\vec{\\ell_{OM}}[v] + delay(\\vec{p^{\\prime}}[u], \\vec{p}[v]), & otherwise\\end{cases} \\\\\n",
    "\\vec{\\ell_{I}} &= map \\left(f_{Id}, \\left(\\vec{u_{IC}}, \\vec{v_{IC}}\\right)  \\right) \\\\\n",
    "\\vec{\\ell^{\\prime}_{I}} &= map \\left(f^{\\prime}_{Id}, \\left(\\vec{u_{IC}}, \\vec{v_{IC}}\\right)  \\right) \\\\\n",
    "\\vec{\\ell_{O}} &= map \\left(f_{Od}, \\left(\\vec{u_{OC}}, \\vec{v_{OC}}\\right)  \\right) \\\\\n",
    "\\vec{\\ell^{\\prime}_{O}} &= map \\left(f^{\\prime}_{Od}, \\left(\\vec{u_{OC}}, \\vec{v_{OC}}\\right)  \\right) \\\\\n",
    "\\end{align}"
   ]
  },
  {
   "cell_type": "markdown",
   "metadata": {},
   "source": [
    "\\begin{align}\n",
    "\\vec{\\ell_{I}} &= map \\left(f_{Id}, \\left(\\vec{u_{IC}}, \\vec{v_{IC}}\\right)  \\right) \\\\\n",
    "\\vec{\\ell^{\\prime}_{I}} &= map \\left(f^{\\prime}_{Id}, \\left(\\vec{u_{IC}}, \\vec{v_{IC}}\\right)  \\right) \\\\\n",
    "\\vec{\\ell_{O}} &= map \\left(f_{Od}, \\left(\\vec{u_{OC}}, \\vec{v_{OC}}\\right)  \\right) \\\\\n",
    "\\vec{\\ell^{\\prime}_{O}} &= map \\left(f^{\\prime}_{Od}, \\left(\\vec{u_{OC}}, \\vec{v_{OC}}\\right)  \\right) \\\\\n",
    "\\end{align}"
   ]
  },
  {
   "cell_type": "code",
   "execution_count": null,
   "metadata": {
    "collapsed": true
   },
   "outputs": [],
   "source": []
  }
 ],
 "metadata": {
  "kernelspec": {
   "display_name": "Python 2",
   "language": "python",
   "name": "python2"
  },
  "language_info": {
   "codemirror_mode": {
    "name": "ipython",
    "version": 2
   },
   "file_extension": ".py",
   "mimetype": "text/x-python",
   "name": "python",
   "nbconvert_exporter": "python",
   "pygments_lexer": "ipython2",
   "version": "2.7.9"
  }
 },
 "nbformat": 4,
 "nbformat_minor": 0
}
