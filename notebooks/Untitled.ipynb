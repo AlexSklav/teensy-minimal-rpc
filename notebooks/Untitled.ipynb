{
 "cells": [
  {
   "cell_type": "code",
   "execution_count": null,
   "metadata": {
    "collapsed": false
   },
   "outputs": [],
   "source": [
    "df_data = pd.read_csv('10kHz-1Vpp-1.6Vbias.csv').set_index('Time[s]')"
   ]
  },
  {
   "cell_type": "code",
   "execution_count": null,
   "metadata": {
    "collapsed": false,
    "scrolled": true
   },
   "outputs": [],
   "source": [
    "import numpy as np\n",
    "\n",
    "\n",
    "bias = df_data.mean()\n",
    "v_min = df_data.min()\n",
    "v_max = df_data.max()\n",
    "np.sqrt((df_data ** 2).sum() / df_data.shape[0] - bias ** 2), np.sqrt(((df_data - bias) ** 2).sum() / df_data.shape[0])\n",
    "#(v_max - v_min) / (2 * np.sqrt(2))"
   ]
  },
  {
   "cell_type": "code",
   "execution_count": 2,
   "metadata": {
    "collapsed": false
   },
   "outputs": [],
   "source": [
    "import arduino_helpers.hardware.teensy as teensy\n",
    "import arduino_helpers.hardware.arduino as arduino\n",
    "from teensy_minimal_rpc import SerialProxy"
   ]
  },
  {
   "cell_type": "code",
   "execution_count": 4,
   "metadata": {
    "collapsed": false
   },
   "outputs": [
    {
     "data": {
      "text/plain": [
       "1"
      ]
     },
     "execution_count": 4,
     "metadata": {},
     "output_type": "execute_result"
    }
   ],
   "source": [
    "try:\n",
    "    del proxy\n",
    "except NameError:\n",
    "    pass\n",
    "proxy = SerialProxy(baudrate=512000)\n",
    "\n",
    "proxy.pin_mode(13, 1)\n",
    "proxy.digital_write(13, 1)\n",
    "proxy.enableDMA(teensy.ADC_0)\n",
    "proxy.enableInterrupts(teensy.ADC_0)\n",
    "proxy.dma_start(256)"
   ]
  },
  {
   "cell_type": "code",
   "execution_count": 5,
   "metadata": {
    "collapsed": false
   },
   "outputs": [],
   "source": [
    "# settings = df_adc_settings.loc[281]\n",
    "# settings\n",
    "\n",
    "proxy.setAveraging(4, teensy.ADC_0)\n",
    "proxy.setResolution(10, teensy.ADC_0)\n",
    "proxy.setConversionSpeed(teensy.ADC_VERY_HIGH_SPEED, teensy.ADC_0)\n",
    "proxy.setSamplingSpeed(teensy.ADC_VERY_HIGH_SPEED, teensy.ADC_0)"
   ]
  },
  {
   "cell_type": "code",
   "execution_count": 10,
   "metadata": {
    "collapsed": false
   },
   "outputs": [],
   "source": [
    "from datetime import datetime\n",
    "import pandas as pd\n",
    "\n",
    "proxy.start_timer(10)"
   ]
  },
  {
   "cell_type": "code",
   "execution_count": 9,
   "metadata": {
    "collapsed": false
   },
   "outputs": [
    {
     "name": "stdout",
     "output_type": "stream",
     "text": [
      "count    128\n",
      "mean       1\n",
      "std        0\n",
      "min        1\n",
      "25%        1\n",
      "50%        1\n",
      "75%        1\n",
      "max        1\n",
      "dtype: float64\n",
      "count     128\n",
      "mean     1023\n",
      "std         0\n",
      "min      1023\n",
      "25%      1023\n",
      "50%      1023\n",
      "75%      1023\n",
      "max      1023\n",
      "dtype: float64\n"
     ]
    }
   ],
   "source": [
    "result = proxy.adc_read()\n",
    "adc_count = result[:2].view('uint32')\n",
    "channel_start_i = [2, 3]\n",
    "\n",
    "if adc_count & 0x01:\n",
    "    channel_start_i = channel_start_i[::-1]\n",
    "    \n",
    "print pd.Series(result[channel_start_i[0]::2]).describe()\n",
    "print pd.Series(result[channel_start_i[1]::2]).describe()"
   ]
  },
  {
   "cell_type": "code",
   "execution_count": 4,
   "metadata": {
    "collapsed": true
   },
   "outputs": [],
   "source": [
    "proxy.digital_write(13, 0)"
   ]
  },
  {
   "cell_type": "code",
   "execution_count": 164,
   "metadata": {
    "collapsed": false
   },
   "outputs": [],
   "source": [
    "proxy.stop_timer()"
   ]
  },
  {
   "cell_type": "code",
   "execution_count": 123,
   "metadata": {
    "collapsed": false
   },
   "outputs": [
    {
     "data": {
      "text/plain": [
       "256"
      ]
     },
     "execution_count": 123,
     "metadata": {},
     "output_type": "execute_result"
    }
   ],
   "source": [
    "proxy.dma_available()"
   ]
  },
  {
   "cell_type": "code",
   "execution_count": null,
   "metadata": {
    "collapsed": true
   },
   "outputs": [],
   "source": [
    "import numpy as np"
   ]
  },
  {
   "cell_type": "code",
   "execution_count": null,
   "metadata": {
    "collapsed": false
   },
   "outputs": [],
   "source": [
    "def leading_zeros(value, bits=32):\n",
    "    for i in xrange(bits, 0, -1):\n",
    "        if (value >> (bits - i)) == 1:\n",
    "            return i - 1\n",
    "    return bits\n",
    "\n",
    "\n",
    "(31 - leading_zeros(256)) << 3"
   ]
  },
  {
   "cell_type": "code",
   "execution_count": null,
   "metadata": {
    "collapsed": false
   },
   "outputs": [],
   "source": [
    "9 << 3"
   ]
  },
  {
   "cell_type": "code",
   "execution_count": null,
   "metadata": {
    "collapsed": false
   },
   "outputs": [],
   "source": [
    "import time\n",
    "\n",
    "\n",
    "N = 32\n",
    "\n",
    "# proxy.dma_start(1 << int(np.ceil(np.log2(N))))\n",
    "proxy.dma_start(256)\n",
    "for i in range(N): proxy.startSingleRead(teensy.A0, teensy.ADC_0)\n",
    "# time.sleep(0.01)\n",
    "result = proxy.adc_read()\n",
    "print result.shape[0]\n",
    "result"
   ]
  },
  {
   "cell_type": "code",
   "execution_count": null,
   "metadata": {
    "collapsed": false
   },
   "outputs": [],
   "source": [
    "result = proxy.adc_read()\n",
    "result.shape[0], result.mean()"
   ]
  },
  {
   "cell_type": "code",
   "execution_count": null,
   "metadata": {
    "collapsed": false
   },
   "outputs": [],
   "source": [
    "proxy.start_timer(5)"
   ]
  },
  {
   "cell_type": "code",
   "execution_count": null,
   "metadata": {
    "collapsed": false
   },
   "outputs": [],
   "source": [
    "1 / 100e3 / 1e-6"
   ]
  },
  {
   "cell_type": "code",
   "execution_count": null,
   "metadata": {
    "collapsed": false
   },
   "outputs": [],
   "source": [
    "proxy.adc_period_us()"
   ]
  },
  {
   "cell_type": "code",
   "execution_count": null,
   "metadata": {
    "collapsed": false
   },
   "outputs": [],
   "source": [
    "import time\n",
    "\n",
    "\n",
    "proxy.startContinuous(teensy.A0, teensy.ADC_0)\n",
    "while proxy.dma_available() < N: time.sleep(0.001)\n",
    "proxy.stopContinuous(teensy.ADC_0)\n",
    "proxy.adc_read()"
   ]
  },
  {
   "cell_type": "code",
   "execution_count": null,
   "metadata": {
    "collapsed": false
   },
   "outputs": [],
   "source": [
    "proxy.enableInterrupts(teensy.ADC_0)"
   ]
  },
  {
   "cell_type": "code",
   "execution_count": null,
   "metadata": {
    "collapsed": false
   },
   "outputs": [],
   "source": [
    "proxy.adc_timestamp_us()"
   ]
  },
  {
   "cell_type": "code",
   "execution_count": null,
   "metadata": {
    "collapsed": false
   },
   "outputs": [],
   "source": [
    "# for i in range(128): proxy.startSingleRead(teensy.A0, teensy.ADC_0)\n",
    "# proxy.startSingleRead(teensy.A0, teensy.ADC_0)\n"
   ]
  },
  {
   "cell_type": "code",
   "execution_count": null,
   "metadata": {
    "collapsed": false
   },
   "outputs": [],
   "source": [
    "from datetime import datetime, timedelta\n",
    "\n",
    "start = datetime.now()\n",
    "start_us = proxy.microseconds()\n",
    "proxy.startContinuous(teensy.A0, teensy.ADC_0)\n",
    "proxy.stopContinuous(teensy.ADC_0)\n",
    "start + timedelta(microseconds=proxy.adc_timestamp_us() - start_us), proxy.adc_read()"
   ]
  },
  {
   "cell_type": "code",
   "execution_count": null,
   "metadata": {
    "collapsed": false
   },
   "outputs": [],
   "source": [
    "import time\n",
    "\n",
    "import pandas as pd\n",
    "\n",
    "ADC_SPEEDS = pd.Series(['ADC_VERY_LOW_SPEED',\n",
    "                        'ADC_LOW_SPEED',\n",
    "                        'ADC_MED_SPEED',\n",
    "                        # 'ADC_HIGH_SPEED_16BITS',\n",
    "                        'ADC_HIGH_SPEED',\n",
    "                        'ADC_VERY_HIGH_SPEED'],\n",
    "                       index=[teensy.ADC_VERY_LOW_SPEED,\n",
    "                              teensy.ADC_LOW_SPEED,\n",
    "                              teensy.ADC_MED_SPEED,\n",
    "                              # teensy.ADC_HIGH_SPEED_16BITS,\n",
    "                              teensy.ADC_HIGH_SPEED,\n",
    "                              teensy.ADC_VERY_HIGH_SPEED])\n",
    "\n",
    "\n",
    "def benchmark_adc(proxy):\n",
    "    rows = []\n",
    "\n",
    "    for conversion_i, conversion_speed in ADC_SPEEDS.iteritems():\n",
    "        for sampling_i, sampling_speed in ADC_SPEEDS.iteritems():\n",
    "            for averaging in (0, 4, 8, 16, 32):\n",
    "                for resolution in (8, 10, 12):\n",
    "                    if [conversion_i, sampling_i, averaging] == [5, 5, 0]:\n",
    "                        continue\n",
    "                    print '.', \n",
    "                    try:\n",
    "                        proxy.setAveraging(averaging, teensy.ADC_0)\n",
    "                        proxy.setResolution(resolution, teensy.ADC_0)\n",
    "                        proxy.setConversionSpeed(conversion_i, teensy.ADC_0)\n",
    "                        proxy.setSamplingSpeed(sampling_i, teensy.ADC_0)\n",
    "\n",
    "                        proxy.startContinuous(teensy.A0, teensy.ADC_0)\n",
    "                        time.sleep(0.001)\n",
    "                        proxy.stopContinuous(teensy.ADC_0)\n",
    "                        period_us = proxy.adc_period_us()\n",
    "                    except IOError:\n",
    "                        print 'Failed for %s' % [conversion_i, sampling_i, averaging,\n",
    "                                                 resolution]\n",
    "                        raise\n",
    "                    row = [conversion_i, sampling_i, averaging,\n",
    "                           resolution, period_us]\n",
    "                    rows.append(row)\n",
    "\n",
    "    df_adc_benchmarks =  pd.DataFrame(rows, columns=['conversion_i',\n",
    "                                                     'sampling_i',\n",
    "                                                     'averaging',\n",
    "                                                     'resolution',\n",
    "                                                     'period_us'])\n",
    "    df_adc_benchmarks.loc[df_adc_benchmarks.period_us < 0, 'period_us'] += 1000\n",
    "#     df_adc_benchmarks.set_index(['conversion_speed', 'sampling_speed',\n",
    "#                                  'averaging', 'resolution'], inplace=True)\n",
    "    df_adc_benchmarks['sampling_rate_Hz'] = 1e6 / df_adc_benchmarks['period_us']\n",
    "    return df_adc_benchmarks"
   ]
  },
  {
   "cell_type": "code",
   "execution_count": null,
   "metadata": {
    "collapsed": false
   },
   "outputs": [],
   "source": [
    "df_adc_benchmarks = benchmark_adc(proxy)"
   ]
  },
  {
   "cell_type": "code",
   "execution_count": null,
   "metadata": {
    "collapsed": true
   },
   "outputs": [],
   "source": [
    "%matplotlib inline"
   ]
  },
  {
   "cell_type": "code",
   "execution_count": 365,
   "metadata": {
    "collapsed": false
   },
   "outputs": [
    {
     "data": {
      "text/plain": [
       "5"
      ]
     },
     "execution_count": 365,
     "metadata": {},
     "output_type": "execute_result"
    }
   ],
   "source": [
    "teensy.ADC_VERY_HIGH_SPEED"
   ]
  },
  {
   "cell_type": "code",
   "execution_count": null,
   "metadata": {
    "collapsed": false
   },
   "outputs": [],
   "source": [
    "from si_prefix import si_format\n",
    "\n",
    "\n",
    "df_i = (df_adc_benchmarks.loc[(df_adc_benchmarks.resolution > 8) &\n",
    "                              (df_adc_benchmarks.averaging > 0) &\n",
    "                              (df_adc_benchmarks.sampling_rate_Hz >= 100e3)]\n",
    "        .sort_values(by=['sampling_rate_Hz', 'resolution', 'conversion_i', 'sampling_i'],\n",
    "                     ascending=False))\n",
    "df_i['conversion_speed'] = ADC_SPEEDS[df_i.conversion_i].values\n",
    "df_i['sampling_speed'] = ADC_SPEEDS[df_i.sampling_i].values\n",
    "df_i['sampling_rate'] = df_i.sampling_rate_Hz.map(si_format)\n",
    "df_i[['sampling_rate', 'averaging', 'resolution', 'conversion_speed', 'sampling_speed']]"
   ]
  },
  {
   "cell_type": "code",
   "execution_count": null,
   "metadata": {
    "collapsed": false
   },
   "outputs": [],
   "source": [
    "df_i[['sampling_rate', 'averaging', 'resolution', 'conversion_speed', 'sampling_speed']]\n",
    "axis = (df_i.set_index(['averaging', 'resolution', 'conversion_speed', 'sampling_speed'])\n",
    "        ['sampling_rate_Hz']).plot(rot=90, style='o')\n",
    "axis.set_yticklabels(['%sHz' % si_format(v) for v in axis.get_yticks()])\n",
    "# axis.get_figure().savefig('test.pdf', bbox_inches='tight')\n",
    "pass"
   ]
  },
  {
   "cell_type": "code",
   "execution_count": null,
   "metadata": {
    "collapsed": true
   },
   "outputs": [],
   "source": [
    "fig.savefig"
   ]
  },
  {
   "cell_type": "code",
   "execution_count": null,
   "metadata": {
    "collapsed": false
   },
   "outputs": [],
   "source": [
    "import time\n",
    "\n",
    "import pandas as pd"
   ]
  },
  {
   "cell_type": "code",
   "execution_count": null,
   "metadata": {
    "collapsed": false
   },
   "outputs": [],
   "source": [
    "proxy.adc_period_us()"
   ]
  },
  {
   "cell_type": "code",
   "execution_count": null,
   "metadata": {
    "collapsed": true
   },
   "outputs": [],
   "source": [
    "proxy.digital_write(13, 0)"
   ]
  },
  {
   "cell_type": "code",
   "execution_count": null,
   "metadata": {
    "collapsed": false
   },
   "outputs": [],
   "source": [
    "proxy.startContinuous(teensy.A0, teensy.ADC_0)"
   ]
  },
  {
   "cell_type": "code",
   "execution_count": null,
   "metadata": {
    "collapsed": false
   },
   "outputs": [],
   "source": [
    "proxy.stopContinuous(teensy.ADC_0)"
   ]
  },
  {
   "cell_type": "code",
   "execution_count": null,
   "metadata": {
    "collapsed": false
   },
   "outputs": [],
   "source": [
    "proxy.isContinuous(teensy.ADC_0)"
   ]
  },
  {
   "cell_type": "code",
   "execution_count": null,
   "metadata": {
    "collapsed": false
   },
   "outputs": [],
   "source": [
    "if proxy.dma_available() > 0:\n",
    "    print proxy.dma_read()\n",
    "proxy.adc_buffer(), proxy.dma_available()"
   ]
  },
  {
   "cell_type": "code",
   "execution_count": null,
   "metadata": {
    "collapsed": false
   },
   "outputs": [],
   "source": [
    "proxy.startSingleRead(teensy.A0, teensy.ADC_0)"
   ]
  },
  {
   "cell_type": "code",
   "execution_count": null,
   "metadata": {
    "collapsed": false
   },
   "outputs": [],
   "source": [
    "proxy.dma_available(), proxy.dma_empty(), proxy.dma_full()"
   ]
  },
  {
   "cell_type": "code",
   "execution_count": null,
   "metadata": {
    "collapsed": false
   },
   "outputs": [],
   "source": [
    "proxy.dma_read()"
   ]
  },
  {
   "cell_type": "code",
   "execution_count": null,
   "metadata": {
    "collapsed": false
   },
   "outputs": [],
   "source": [
    "proxy.start_timer(10)"
   ]
  },
  {
   "cell_type": "code",
   "execution_count": null,
   "metadata": {
    "collapsed": true
   },
   "outputs": [],
   "source": [
    "%matplotlib inline\n",
    "import pandas as pd"
   ]
  },
  {
   "cell_type": "code",
   "execution_count": null,
   "metadata": {
    "collapsed": true
   },
   "outputs": [],
   "source": [
    "from datetime import datetime"
   ]
  },
  {
   "cell_type": "code",
   "execution_count": null,
   "metadata": {
    "collapsed": true
   },
   "outputs": [],
   "source": [
    "proxy.setAveraging(0, -1)"
   ]
  },
  {
   "cell_type": "code",
   "execution_count": null,
   "metadata": {
    "collapsed": false
   },
   "outputs": [],
   "source": [
    "data = pd.DataFrame([(proxy.analogRead(0, -1), datetime.now()) for i in xrange(200)],\n",
    "                    columns=['reading', 'timestamp'])\n",
    "data.set_index('timestamp').plot()"
   ]
  },
  {
   "cell_type": "code",
   "execution_count": null,
   "metadata": {
    "collapsed": false
   },
   "outputs": [],
   "source": [
    "proxy.adc_buffer"
   ]
  },
  {
   "cell_type": "code",
   "execution_count": null,
   "metadata": {
    "collapsed": false
   },
   "outputs": [],
   "source": [
    "40 * proxy.benchmark_flops(10e3) / 10e3"
   ]
  },
  {
   "cell_type": "code",
   "execution_count": null,
   "metadata": {
    "collapsed": false
   },
   "outputs": [],
   "source": [
    "40 * proxy.benchmark_iops(10e3) / 10e3"
   ]
  },
  {
   "cell_type": "code",
   "execution_count": null,
   "metadata": {
    "collapsed": true
   },
   "outputs": [],
   "source": [
    "import sys\n",
    "sys.path.insert(0, r'C:\\Users\\Christian\\Documents\\GitHub\\ring-buffer-testbench')"
   ]
  },
  {
   "cell_type": "code",
   "execution_count": null,
   "metadata": {
    "collapsed": true
   },
   "outputs": [],
   "source": [
    "from ring_buffer_testbench.cRingBuffer import cRingBuffer"
   ]
  },
  {
   "cell_type": "code",
   "execution_count": null,
   "metadata": {
    "collapsed": true
   },
   "outputs": [],
   "source": [
    "ring_buffer = cRingBuffer()"
   ]
  },
  {
   "cell_type": "code",
   "execution_count": null,
   "metadata": {
    "collapsed": false
   },
   "outputs": [],
   "source": [
    "ring_buffer.elems(), ring_buffer.b_start, ring_buffer.b_end"
   ]
  },
  {
   "cell_type": "code",
   "execution_count": 76,
   "metadata": {
    "collapsed": false
   },
   "outputs": [
    {
     "ename": "NameError",
     "evalue": "name 'df_i' is not defined",
     "output_type": "error",
     "traceback": [
      "\u001b[1;31m---------------------------------------------------------------------------\u001b[0m",
      "\u001b[1;31mNameError\u001b[0m                                 Traceback (most recent call last)",
      "\u001b[1;32m<ipython-input-76-52ad5eb217c1>\u001b[0m in \u001b[0;36m<module>\u001b[1;34m()\u001b[0m\n\u001b[0;32m      1\u001b[0m \u001b[1;31m# df_adc_settings = df_i[['sampling_rate', 'averaging', 'resolution',\u001b[0m\u001b[1;33m\u001b[0m\u001b[1;33m\u001b[0m\u001b[0m\n\u001b[0;32m      2\u001b[0m \u001b[1;31m#                         'conversion_speed', 'sampling_speed']]\u001b[0m\u001b[1;33m\u001b[0m\u001b[1;33m\u001b[0m\u001b[0m\n\u001b[1;32m----> 3\u001b[1;33m \u001b[0mdf_adc_settings\u001b[0m \u001b[1;33m=\u001b[0m \u001b[0mdf_i\u001b[0m\u001b[1;33m.\u001b[0m\u001b[0mcopy\u001b[0m\u001b[1;33m(\u001b[0m\u001b[1;33m)\u001b[0m\u001b[1;33m\u001b[0m\u001b[0m\n\u001b[0m\u001b[0;32m      4\u001b[0m df_adc_settings.loc[(df_adc_settings.sampling_rate_Hz >= 150e3) &\n\u001b[0;32m      5\u001b[0m                     \u001b[1;33m(\u001b[0m\u001b[0mdf_adc_settings\u001b[0m\u001b[1;33m.\u001b[0m\u001b[0mconversion_i\u001b[0m \u001b[1;33m<\u001b[0m \u001b[0mteensy\u001b[0m\u001b[1;33m.\u001b[0m\u001b[0mADC_VERY_HIGH_SPEED\u001b[0m\u001b[1;33m)\u001b[0m\u001b[1;33m,\u001b[0m\u001b[1;33m\u001b[0m\u001b[0m\n",
      "\u001b[1;31mNameError\u001b[0m: name 'df_i' is not defined"
     ]
    }
   ],
   "source": [
    "# df_adc_settings = df_i[['sampling_rate', 'averaging', 'resolution',\n",
    "#                         'conversion_speed', 'sampling_speed']]\n",
    "df_adc_settings = df_i.copy()\n",
    "df_adc_settings.loc[(df_adc_settings.sampling_rate_Hz >= 150e3) &\n",
    "                    (df_adc_settings.conversion_i < teensy.ADC_VERY_HIGH_SPEED),\n",
    "                    ['sampling_rate', 'averaging', 'resolution',\n",
    "                     'conversion_speed', 'sampling_speed']]"
   ]
  }
 ],
 "metadata": {
  "kernelspec": {
   "display_name": "Python 2",
   "language": "python",
   "name": "python2"
  },
  "language_info": {
   "codemirror_mode": {
    "name": "ipython",
    "version": 2
   },
   "file_extension": ".py",
   "mimetype": "text/x-python",
   "name": "python",
   "nbconvert_exporter": "python",
   "pygments_lexer": "ipython2",
   "version": "2.7.9"
  }
 },
 "nbformat": 4,
 "nbformat_minor": 0
}
