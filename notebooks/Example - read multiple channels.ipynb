{
 "cells": [
  {
   "cell_type": "markdown",
   "metadata": {},
   "source": [
    "# Periodic multiple channel ADC read\n",
    "\n",
    " - User specified:\n",
    "    * Sample frequency, $f_s$\n",
    "    * List of ADC channels $C = \\left[c_0, c_1, \\ldots c_n\\right]$.\n",
    " - After each $\\frac{1}{f_s}$ period, measure value for each channel\n",
    "   in $C$ as quickly as possible."
   ]
  },
  {
   "cell_type": "markdown",
   "metadata": {},
   "source": [
    "## Plan ##\n",
    "\n",
    "### Measure all channels once ###\n",
    "\n",
    "    |ADC READ |   ADC WAIT  |ADC READ |   ADC WAIT   |\n",
    "    |[0]                    |[0]                     | ->  [r0]\n",
    "    |   [1]                 |   [1]                  | ->  [r1]\n",
    "    |      [2]              |      [2]               | ->  [r2]\n",
    "\n",
    "    |<-------- 1/f_s ------>|\n",
    "\n",
    "\n",
    "Configure 3 DMA channels (one \"`ADC READ`\" in the above diagram):\n",
    "\n",
    " 1. Copy channel configuration to ADC config register (SW triggered, and linked to channel 3).\n",
    " 2. Copy ADC start to ADC register (linked to channel 1).\n",
    " 3. Copy ADC result to output array (triggered by ADC conversion complete, i.e., COCO)"
   ]
  },
  {
   "cell_type": "markdown",
   "metadata": {},
   "source": [
    "### Period ($\\frac{1}{f_s}$)\n",
    "\n",
    "Trigger `ADC READ` periodically.\n",
    "\n",
    "#### Method 1: Timer interrupt  ###\n",
    "\n",
    " - Set Periodic Interrupt Timer to period of $\\frac{1}{f_s}$\n",
    " - In timer interrupt service routine:\n",
    "     1. Software trigger DMA channel 1, causing linked read of all channels.\n",
    "\n",
    "Advantages:\n",
    "\n",
    " - Flexibility, since ISR code can do other things, e.g., increment counters, etc.\n",
    " \n",
    "Disadvantages:\n",
    "\n",
    " - Ties up CPU.\n",
    "     \n",
    "#### Method 2: Timer DMA trigger  ###\n",
    "\n",
    " - Set Periodic Interrupt Timer to period of $\\frac{1}{f_s}$\n",
    " - Configure DMA channel 1 to use PIT trigger, causing linked read of all channels with no CPU intervention.\n",
    " \n",
    "Advantages:\n",
    "\n",
    " - Runs without CPU intervention, i.e., in background.\n",
    " - Should have higher max sampling rate (assuming ADC is not bottleneck)\n",
    "\n",
    "Disadvantages:\n",
    "\n",
    " - Harder to do things like incrementing counters, etc.\n",
    " \n",
    "### Continuous RMS, peak-to-peak, etc.? ###\n",
    "\n",
    " - Compute RMS across most recent $n$ periods."
   ]
  },
  {
   "cell_type": "code",
   "execution_count": 4,
   "metadata": {
    "collapsed": false
   },
   "outputs": [],
   "source": [
    "from IPython.display import display\n",
    "from datetime import datetime\n",
    "\n",
    "import numpy as np\n",
    "import pandas as pd\n",
    "import arduino_helpers.hardware.teensy as teensy\n",
    "from arduino_helpers.hardware.teensy.adc import ADC_DESCRIPTIONS\n",
    "from arduino_helpers.hardware.teensy.dma import (TCD_DESCRIPTIONS,\n",
    "                                                 REGISTERS_DESCRIPTIONS\n",
    "                                                 as DMA_REG_DESCRIPTIONS,\n",
    "                                                 DCHPRI_DESCRIPTIONS)\n",
    "from arduino_helpers.hardware.teensy.pit import (TIMER_CONFIG_DESCRIPTIONS,\n",
    "                                                 REGISTERS_DESCRIPTIONS\n",
    "                                                 as PIT_REG_DESCRIPTIONS)\n",
    "import arduino_helpers.hardware.arduino as arduino\n",
    "from arduino_rpc.protobuf import resolve_field_values\n",
    "\n",
    "from teensy_minimal_rpc import SerialProxy\n",
    "import teensy_minimal_rpc.ADC as adc\n",
    "import teensy_minimal_rpc.DMA as dma\n",
    "import teensy_minimal_rpc.SIM as sim\n",
    "import teensy_minimal_rpc.PIT as pit\n",
    "\n",
    "\n",
    "def init_dma(proxy):\n",
    "    # SIM_SCGC7 |= SIM_SCGC7_DMA;\n",
    "    # SIM_SCGC6 |= SIM_SCGC6_DMAMUX;\n",
    "    proxy.update_sim_SCGC6(sim.R_SCGC6(DMAMUX=True))\n",
    "    proxy.update_sim_SCGC7(sim.R_SCGC7(DMA=True))\n",
    "    for i in xrange(proxy.dma_channel_count()):\n",
    "        # TCD = (TCD_t *)(0x40009000 + ch * 32);\n",
    "        # uint32_t *p = (uint32_t *)TCD;\n",
    "        # *p++ = 0;\n",
    "        # *p++ = 0;\n",
    "        # *p++ = 0;\n",
    "        # *p++ = 0;\n",
    "        # *p++ = 0;\n",
    "        # *p++ = 0;\n",
    "        # *p++ = 0;\n",
    "        # *p++ = 0;\n",
    "        proxy.reset_dma_TCD(i)"
   ]
  },
  {
   "cell_type": "code",
   "execution_count": 67,
   "metadata": {
    "collapsed": false
   },
   "outputs": [],
   "source": [
    "try:\n",
    "    del proxy\n",
    "except NameError:\n",
    "    pass\n",
    "\n",
    "proxy = SerialProxy(baudrate=512000)\n",
    "\n",
    "proxy.pin_mode(13, 1)\n",
    "proxy.digital_write(13, 1)\n",
    "init_dma(proxy)\n",
    "# proxy.enableDMA(teensy.ADC_0)\n",
    "# proxy.enableInterrupts(teensy.ADC_0)\n",
    "# proxy.dma_start(256)\n",
    "\n",
    "# Set ADC parameters\n",
    "# proxy.setAveraging(4, teensy.ADC_0)\n",
    "# proxy.setResolution(10, teensy.ADC_0)\n",
    "# proxy.setConversionSpeed(teensy.ADC_VERY_HIGH_SPEED, teensy.ADC_0)\n",
    "# proxy.setSamplingSpeed(teensy.ADC_VERY_HIGH_SPEED, teensy.ADC_0)"
   ]
  },
  {
   "cell_type": "markdown",
   "metadata": {},
   "source": [
    "## Allocate two arrays: source and destination"
   ]
  },
  {
   "cell_type": "code",
   "execution_count": 68,
   "metadata": {
    "collapsed": false
   },
   "outputs": [
    {
     "data": {
      "text/plain": [
       "['0x1fffe6d8', '0x1fffe8f0']"
      ]
     },
     "execution_count": 68,
     "metadata": {},
     "output_type": "execute_result"
    }
   ],
   "source": [
    "N = 512\n",
    "proxy.free_all()\n",
    "src_addr = proxy.mem_alloc(N)\n",
    "dst_addr = proxy.mem_alloc(N)\n",
    "proxy.mem_cpy_host_to_device(src_addr, np.arange(1, 17, dtype='uint8'))\n",
    "proxy.mem_fill_uint32(dst_addr, 0, N / 4)\n",
    "[hex(addr)[:-1] for addr in (src_addr, dst_addr)]"
   ]
  },
  {
   "cell_type": "code",
   "execution_count": 77,
   "metadata": {
    "collapsed": true
   },
   "outputs": [],
   "source": [
    "XFER_REQUEST = dma.TCD(CSR=dma.R_TCD_CSR(START=1),\n",
    "                       NBYTES_MLNO=8,\n",
    "                       SADDR=int(src_addr + 15),\n",
    "                       DADDR=int(dst_addr),\n",
    "                       SOFF=-1,\n",
    "                       DOFF=4,\n",
    "                       ATTR=dma.R_TCD_ATTR(SSIZE=dma.R_TCD_ATTR._8_BIT,\n",
    "                                           DSIZE=dma.R_TCD_ATTR._32_BIT),\n",
    "                       SLAST=16,\n",
    "                       DLASTSGA=-16,\n",
    "                       CITER_ELINKNO=dma.R_TCD_ITER_ELINKNO(ITER=2),\n",
    "                       BITER_ELINKNO=dma.R_TCD_ITER_ELINKNO(ITER=2),\n",
    "                       )"
   ]
  },
  {
   "cell_type": "code",
   "execution_count": 78,
   "metadata": {
    "collapsed": false
   },
   "outputs": [
    {
     "data": {
      "text/plain": [
       "0"
      ]
     },
     "execution_count": 78,
     "metadata": {},
     "output_type": "execute_result"
    }
   ],
   "source": [
    "proxy.mem_fill_uint32(dst_addr, 0, N / 4)\n",
    "request = dma.TCD()\n",
    "request.CopyFrom(XFER_REQUEST)\n",
    "request.CSR.START = 0\n",
    "proxy.update_dma_TCD(1, request)"
   ]
  },
  {
   "cell_type": "code",
   "execution_count": 94,
   "metadata": {
    "collapsed": false
   },
   "outputs": [
    {
     "data": {
      "text/plain": [
       "array([0, 0, 0, 0, 0, 0, 0, 0, 8, 7, 6, 5, 4, 3, 2, 1, 0, 0, 0, 0], dtype=uint8)"
      ]
     },
     "execution_count": 94,
     "metadata": {},
     "output_type": "execute_result"
    }
   ],
   "source": [
    "proxy.mem_fill_uint32(dst_addr, 0, N / 4)\n",
    "proxy.update_dma_registers(dma.Registers(SSRT=1))\n",
    "proxy.mem_cpy_device_to_host(dst_addr, 20)"
   ]
  },
  {
   "cell_type": "code",
   "execution_count": 18,
   "metadata": {
    "collapsed": false
   },
   "outputs": [
    {
     "data": {
      "text/html": [
       "<div>\n",
       "<table border=\"1\" class=\"dataframe\">\n",
       "  <thead>\n",
       "    <tr style=\"text-align: right;\">\n",
       "      <th></th>\n",
       "      <th>full_name</th>\n",
       "      <th>value</th>\n",
       "      <th>short_description</th>\n",
       "      <th>page</th>\n",
       "    </tr>\n",
       "    <tr>\n",
       "      <th>parent_name</th>\n",
       "      <th></th>\n",
       "      <th></th>\n",
       "      <th></th>\n",
       "      <th></th>\n",
       "    </tr>\n",
       "  </thead>\n",
       "  <tbody>\n",
       "    <tr>\n",
       "      <th></th>\n",
       "      <td>SADDR</td>\n",
       "      <td>536864472</td>\n",
       "      <td>Source Address</td>\n",
       "      <td>21.3.17/415</td>\n",
       "    </tr>\n",
       "    <tr>\n",
       "      <th></th>\n",
       "      <td>SOFF</td>\n",
       "      <td>4</td>\n",
       "      <td>Source Address Signed offset</td>\n",
       "      <td>21.3.18/415</td>\n",
       "    </tr>\n",
       "    <tr>\n",
       "      <th>ATTR</th>\n",
       "      <td>ATTR.DMOD</td>\n",
       "      <td>0</td>\n",
       "      <td>Destination Address Modulo</td>\n",
       "      <td>21.3.19/416</td>\n",
       "    </tr>\n",
       "    <tr>\n",
       "      <th>ATTR</th>\n",
       "      <td>ATTR.DSIZE</td>\n",
       "      <td>_32_BIT</td>\n",
       "      <td>Destination data transfer size</td>\n",
       "      <td>21.3.19/416</td>\n",
       "    </tr>\n",
       "    <tr>\n",
       "      <th>ATTR</th>\n",
       "      <td>ATTR.SMOD</td>\n",
       "      <td>0</td>\n",
       "      <td>Source Address Modulo.</td>\n",
       "      <td>21.3.19/416</td>\n",
       "    </tr>\n",
       "    <tr>\n",
       "      <th>ATTR</th>\n",
       "      <td>ATTR.SSIZE</td>\n",
       "      <td>_32_BIT</td>\n",
       "      <td>Source data transfer size</td>\n",
       "      <td>21.3.19/416</td>\n",
       "    </tr>\n",
       "    <tr>\n",
       "      <th></th>\n",
       "      <td>NBYTES_MLNO</td>\n",
       "      <td>16</td>\n",
       "      <td>Minor Byte Transfer Count</td>\n",
       "      <td>21.3.20/417</td>\n",
       "    </tr>\n",
       "    <tr>\n",
       "      <th></th>\n",
       "      <td>SLAST</td>\n",
       "      <td>-16</td>\n",
       "      <td>Last source Address Adjustment</td>\n",
       "      <td>21.3.23/420</td>\n",
       "    </tr>\n",
       "    <tr>\n",
       "      <th></th>\n",
       "      <td>DADDR</td>\n",
       "      <td>536865008</td>\n",
       "      <td>Destination Address</td>\n",
       "      <td>21.3.24/420</td>\n",
       "    </tr>\n",
       "    <tr>\n",
       "      <th></th>\n",
       "      <td>DOFF</td>\n",
       "      <td>4</td>\n",
       "      <td>Destination Address Signed offset</td>\n",
       "      <td>21.3.25/421</td>\n",
       "    </tr>\n",
       "    <tr>\n",
       "      <th>CITER_ELINKNO</th>\n",
       "      <td>CITER_ELINKNO.ELINK</td>\n",
       "      <td>False</td>\n",
       "      <td>Enable channel-to-channel linking on minor-loo...</td>\n",
       "      <td>21.3.27/422</td>\n",
       "    </tr>\n",
       "    <tr>\n",
       "      <th>CITER_ELINKNO</th>\n",
       "      <td>CITER_ELINKNO.ITER</td>\n",
       "      <td>1</td>\n",
       "      <td>Current Major Iteration Count</td>\n",
       "      <td>21.3.27/422</td>\n",
       "    </tr>\n",
       "    <tr>\n",
       "      <th></th>\n",
       "      <td>DLASTSGA</td>\n",
       "      <td>-16</td>\n",
       "      <td>Destination last address adjustment or the mem...</td>\n",
       "      <td>21.3.28/423</td>\n",
       "    </tr>\n",
       "    <tr>\n",
       "      <th>CSR</th>\n",
       "      <td>CSR.ACTIVE</td>\n",
       "      <td>False</td>\n",
       "      <td>Channel Active</td>\n",
       "      <td>21.3.29/424</td>\n",
       "    </tr>\n",
       "    <tr>\n",
       "      <th>CSR</th>\n",
       "      <td>CSR.BWC</td>\n",
       "      <td>NO_STALLS</td>\n",
       "      <td>Bandwidth Control</td>\n",
       "      <td>21.3.29/424</td>\n",
       "    </tr>\n",
       "    <tr>\n",
       "      <th>CSR</th>\n",
       "      <td>CSR.DONE</td>\n",
       "      <td>True</td>\n",
       "      <td>Channel Done</td>\n",
       "      <td>21.3.29/424</td>\n",
       "    </tr>\n",
       "    <tr>\n",
       "      <th>CSR</th>\n",
       "      <td>CSR.DREQ</td>\n",
       "      <td>False</td>\n",
       "      <td>Disable Request</td>\n",
       "      <td>21.3.29/424</td>\n",
       "    </tr>\n",
       "    <tr>\n",
       "      <th>CSR</th>\n",
       "      <td>CSR.ESG</td>\n",
       "      <td>False</td>\n",
       "      <td>Enable Scatter/Gather Processing</td>\n",
       "      <td>21.3.29/424</td>\n",
       "    </tr>\n",
       "    <tr>\n",
       "      <th>CSR</th>\n",
       "      <td>CSR.INTHALF</td>\n",
       "      <td>False</td>\n",
       "      <td>Enable an interrupt when major counter is half...</td>\n",
       "      <td>21.3.29/424</td>\n",
       "    </tr>\n",
       "    <tr>\n",
       "      <th>CSR</th>\n",
       "      <td>CSR.INTMAJOR</td>\n",
       "      <td>False</td>\n",
       "      <td>Enable an interrupt when major iteration count...</td>\n",
       "      <td>21.3.29/424</td>\n",
       "    </tr>\n",
       "    <tr>\n",
       "      <th>CSR</th>\n",
       "      <td>CSR.MAJORELINK</td>\n",
       "      <td>False</td>\n",
       "      <td>Enable channel-to-channel linking on major loo...</td>\n",
       "      <td>21.3.29/424</td>\n",
       "    </tr>\n",
       "    <tr>\n",
       "      <th>CSR</th>\n",
       "      <td>CSR.MAJORLINKCH</td>\n",
       "      <td>0</td>\n",
       "      <td>Link Channel Number</td>\n",
       "      <td>21.3.29/424</td>\n",
       "    </tr>\n",
       "    <tr>\n",
       "      <th>CSR</th>\n",
       "      <td>CSR.START</td>\n",
       "      <td>False</td>\n",
       "      <td>Channel Start</td>\n",
       "      <td>21.3.29/424</td>\n",
       "    </tr>\n",
       "    <tr>\n",
       "      <th>BITER_ELINKNO</th>\n",
       "      <td>BITER_ELINKNO.ELINK</td>\n",
       "      <td>False</td>\n",
       "      <td>Enable channel-to-channel linking on minor-loo...</td>\n",
       "      <td>21.3.31/427</td>\n",
       "    </tr>\n",
       "    <tr>\n",
       "      <th>BITER_ELINKNO</th>\n",
       "      <td>BITER_ELINKNO.ITER</td>\n",
       "      <td>1</td>\n",
       "      <td>Beginning Major Iteration Count</td>\n",
       "      <td>21.3.31/427</td>\n",
       "    </tr>\n",
       "  </tbody>\n",
       "</table>\n",
       "</div>"
      ],
      "text/plain": [
       "                         full_name      value  \\\n",
       "parent_name                                     \n",
       "                             SADDR  536864472   \n",
       "                              SOFF          4   \n",
       "ATTR                     ATTR.DMOD          0   \n",
       "ATTR                    ATTR.DSIZE    _32_BIT   \n",
       "ATTR                     ATTR.SMOD          0   \n",
       "ATTR                    ATTR.SSIZE    _32_BIT   \n",
       "                       NBYTES_MLNO         16   \n",
       "                             SLAST        -16   \n",
       "                             DADDR  536865008   \n",
       "                              DOFF          4   \n",
       "CITER_ELINKNO  CITER_ELINKNO.ELINK      False   \n",
       "CITER_ELINKNO   CITER_ELINKNO.ITER          1   \n",
       "                          DLASTSGA        -16   \n",
       "CSR                     CSR.ACTIVE      False   \n",
       "CSR                        CSR.BWC  NO_STALLS   \n",
       "CSR                       CSR.DONE       True   \n",
       "CSR                       CSR.DREQ      False   \n",
       "CSR                        CSR.ESG      False   \n",
       "CSR                    CSR.INTHALF      False   \n",
       "CSR                   CSR.INTMAJOR      False   \n",
       "CSR                 CSR.MAJORELINK      False   \n",
       "CSR                CSR.MAJORLINKCH          0   \n",
       "CSR                      CSR.START      False   \n",
       "BITER_ELINKNO  BITER_ELINKNO.ELINK      False   \n",
       "BITER_ELINKNO   BITER_ELINKNO.ITER          1   \n",
       "\n",
       "                                               short_description         page  \n",
       "parent_name                                                                    \n",
       "                                                  Source Address  21.3.17/415  \n",
       "                                    Source Address Signed offset  21.3.18/415  \n",
       "ATTR                                  Destination Address Modulo  21.3.19/416  \n",
       "ATTR                              Destination data transfer size  21.3.19/416  \n",
       "ATTR                                      Source Address Modulo.  21.3.19/416  \n",
       "ATTR                                   Source data transfer size  21.3.19/416  \n",
       "                                       Minor Byte Transfer Count  21.3.20/417  \n",
       "                                  Last source Address Adjustment  21.3.23/420  \n",
       "                                             Destination Address  21.3.24/420  \n",
       "                               Destination Address Signed offset  21.3.25/421  \n",
       "CITER_ELINKNO  Enable channel-to-channel linking on minor-loo...  21.3.27/422  \n",
       "CITER_ELINKNO                      Current Major Iteration Count  21.3.27/422  \n",
       "               Destination last address adjustment or the mem...  21.3.28/423  \n",
       "CSR                                               Channel Active  21.3.29/424  \n",
       "CSR                                            Bandwidth Control  21.3.29/424  \n",
       "CSR                                                 Channel Done  21.3.29/424  \n",
       "CSR                                              Disable Request  21.3.29/424  \n",
       "CSR                             Enable Scatter/Gather Processing  21.3.29/424  \n",
       "CSR            Enable an interrupt when major counter is half...  21.3.29/424  \n",
       "CSR            Enable an interrupt when major iteration count...  21.3.29/424  \n",
       "CSR            Enable channel-to-channel linking on major loo...  21.3.29/424  \n",
       "CSR                                          Link Channel Number  21.3.29/424  \n",
       "CSR                                                Channel Start  21.3.29/424  \n",
       "BITER_ELINKNO  Enable channel-to-channel linking on minor-loo...  21.3.31/427  \n",
       "BITER_ELINKNO                    Beginning Major Iteration Count  21.3.31/427  "
      ]
     },
     "metadata": {},
     "output_type": "display_data"
    }
   ],
   "source": [
    "proxy.update_dma_TCD(0, XFER_REQUEST)\n",
    "tcd0 = dma.TCD.FromString(proxy.read_dma_TCD(0).tostring())\n",
    "df_tcd0 = resolve_field_values(tcd0)\n",
    "display(df_tcd0[['full_name', 'value']].dropna()\n",
    "        .join(TCD_DESCRIPTIONS, on='full_name')\n",
    "        [['full_name', 'value', 'short_description', 'page']]\n",
    "        .sort_values(['page','full_name']))"
   ]
  },
  {
   "cell_type": "code",
   "execution_count": null,
   "metadata": {
    "collapsed": true
   },
   "outputs": [],
   "source": []
  },
  {
   "cell_type": "code",
   "execution_count": 89,
   "metadata": {
    "collapsed": false
   },
   "outputs": [
    {
     "data": {
      "text/html": [
       "<div>\n",
       "<table border=\"1\" class=\"dataframe\">\n",
       "  <thead>\n",
       "    <tr style=\"text-align: right;\">\n",
       "      <th></th>\n",
       "      <th>full_name</th>\n",
       "      <th>value</th>\n",
       "      <th>short_description</th>\n",
       "      <th>description</th>\n",
       "      <th>page</th>\n",
       "    </tr>\n",
       "    <tr>\n",
       "      <th>parent_name</th>\n",
       "      <th></th>\n",
       "      <th></th>\n",
       "      <th></th>\n",
       "      <th></th>\n",
       "      <th></th>\n",
       "    </tr>\n",
       "  </thead>\n",
       "  <tbody>\n",
       "    <tr>\n",
       "      <th></th>\n",
       "      <td>CHPRI</td>\n",
       "      <td>0</td>\n",
       "      <td>Channel n Arbitration Priority</td>\n",
       "      <td>Channel priority when fixed-priority arbitrati...</td>\n",
       "      <td>21.3.16/414</td>\n",
       "    </tr>\n",
       "    <tr>\n",
       "      <th></th>\n",
       "      <td>DPA</td>\n",
       "      <td>False</td>\n",
       "      <td>Disable Preempt Ability</td>\n",
       "      <td>0: Channel n can suspend a lower priority chan...</td>\n",
       "      <td>21.3.16/414</td>\n",
       "    </tr>\n",
       "    <tr>\n",
       "      <th></th>\n",
       "      <td>ECP</td>\n",
       "      <td>False</td>\n",
       "      <td>Enable Channel Preemption</td>\n",
       "      <td>0: Channel n cannot be suspended by a higher p...</td>\n",
       "      <td>21.3.16/414</td>\n",
       "    </tr>\n",
       "  </tbody>\n",
       "</table>\n",
       "</div>"
      ],
      "text/plain": [
       "            full_name  value               short_description  \\\n",
       "parent_name                                                    \n",
       "                CHPRI      0  Channel n Arbitration Priority   \n",
       "                  DPA  False         Disable Preempt Ability   \n",
       "                  ECP  False       Enable Channel Preemption   \n",
       "\n",
       "                                                   description         page  \n",
       "parent_name                                                                  \n",
       "             Channel priority when fixed-priority arbitrati...  21.3.16/414  \n",
       "             0: Channel n can suspend a lower priority chan...  21.3.16/414  \n",
       "             0: Channel n cannot be suspended by a higher p...  21.3.16/414  "
      ]
     },
     "metadata": {},
     "output_type": "display_data"
    }
   ],
   "source": [
    "dchpri0 = dma.DCHPRI.FromString(proxy.read_dma_priority(0).tostring())\n",
    "df_dchpri0 = resolve_field_values(dchpri0)\n",
    "display(df_dchpri0[['full_name', 'value']].dropna().join(DCHPRI_DESCRIPTIONS, on='full_name'))"
   ]
  },
  {
   "cell_type": "code",
   "execution_count": 94,
   "metadata": {
    "collapsed": false
   },
   "outputs": [
    {
     "ename": "TypeError",
     "evalue": "update_dma_registers() got an unexpected keyword argument 'CERQ'",
     "output_type": "error",
     "traceback": [
      "\u001b[1;31m---------------------------------------------------------------------------\u001b[0m",
      "\u001b[1;31mTypeError\u001b[0m                                 Traceback (most recent call last)",
      "\u001b[1;32m<ipython-input-94-555d249af41d>\u001b[0m in \u001b[0;36m<module>\u001b[1;34m()\u001b[0m\n\u001b[1;32m----> 1\u001b[1;33m \u001b[0mproxy\u001b[0m\u001b[1;33m.\u001b[0m\u001b[0mupdate_dma_registers\u001b[0m\u001b[1;33m(\u001b[0m\u001b[0mCERQ\u001b[0m\u001b[1;33m=\u001b[0m\u001b[1;36m0\u001b[0m\u001b[1;33m)\u001b[0m  \u001b[1;31m# (ES=dma.R_ES())\u001b[0m\u001b[1;33m\u001b[0m\u001b[0m\n\u001b[0m",
      "\u001b[1;31mTypeError\u001b[0m: update_dma_registers() got an unexpected keyword argument 'CERQ'"
     ]
    }
   ],
   "source": [
    "proxy.update_dma_registers(CERQ=0)  # (ES=dma.R_ES())"
   ]
  },
  {
   "cell_type": "code",
   "execution_count": 93,
   "metadata": {
    "collapsed": false
   },
   "outputs": [
    {
     "data": {
      "text/html": [
       "<div>\n",
       "<table border=\"1\" class=\"dataframe\">\n",
       "  <thead>\n",
       "    <tr style=\"text-align: right;\">\n",
       "      <th></th>\n",
       "      <th>full_name</th>\n",
       "      <th>value</th>\n",
       "      <th>short_description</th>\n",
       "      <th>page</th>\n",
       "    </tr>\n",
       "    <tr>\n",
       "      <th>parent_name</th>\n",
       "      <th></th>\n",
       "      <th></th>\n",
       "      <th></th>\n",
       "      <th></th>\n",
       "    </tr>\n",
       "  </thead>\n",
       "  <tbody>\n",
       "    <tr>\n",
       "      <th></th>\n",
       "      <td>ERQ</td>\n",
       "      <td>0</td>\n",
       "      <td>Enable Request Register</td>\n",
       "      <td>21.3.3/394</td>\n",
       "    </tr>\n",
       "    <tr>\n",
       "      <th></th>\n",
       "      <td>ERR</td>\n",
       "      <td>1</td>\n",
       "      <td>Error Register</td>\n",
       "      <td>21.3.14/409</td>\n",
       "    </tr>\n",
       "    <tr>\n",
       "      <th></th>\n",
       "      <td>INT</td>\n",
       "      <td>0</td>\n",
       "      <td>Interrupt Request Register</td>\n",
       "      <td>21.3.13/406</td>\n",
       "    </tr>\n",
       "    <tr>\n",
       "      <th></th>\n",
       "      <td>EEI</td>\n",
       "      <td>0</td>\n",
       "      <td>Enable Error Interrupt Register</td>\n",
       "      <td>21.3.4/397</td>\n",
       "    </tr>\n",
       "    <tr>\n",
       "      <th></th>\n",
       "      <td>HRS</td>\n",
       "      <td>0</td>\n",
       "      <td>Hardware Request Status Register</td>\n",
       "      <td>21.3.15/411</td>\n",
       "    </tr>\n",
       "    <tr>\n",
       "      <th>ES</th>\n",
       "      <td>ES.DAE</td>\n",
       "      <td>False</td>\n",
       "      <td>Destination Address Error</td>\n",
       "      <td>21.3.2/392</td>\n",
       "    </tr>\n",
       "    <tr>\n",
       "      <th>ES</th>\n",
       "      <td>ES.SOE</td>\n",
       "      <td>False</td>\n",
       "      <td>Source Offset Error</td>\n",
       "      <td>21.3.2/392</td>\n",
       "    </tr>\n",
       "    <tr>\n",
       "      <th>ES</th>\n",
       "      <td>ES.DBE</td>\n",
       "      <td>False</td>\n",
       "      <td>Destination Bus Error</td>\n",
       "      <td>21.3.2/392</td>\n",
       "    </tr>\n",
       "    <tr>\n",
       "      <th>ES</th>\n",
       "      <td>ES.ERRCHN</td>\n",
       "      <td>0</td>\n",
       "      <td>Error Channel Number or Cancelled Channel Number</td>\n",
       "      <td>21.3.2/392</td>\n",
       "    </tr>\n",
       "    <tr>\n",
       "      <th>ES</th>\n",
       "      <td>ES.CPE</td>\n",
       "      <td>False</td>\n",
       "      <td>Channel Priority Error</td>\n",
       "      <td>21.3.2/392</td>\n",
       "    </tr>\n",
       "    <tr>\n",
       "      <th>ES</th>\n",
       "      <td>ES.SAE</td>\n",
       "      <td>False</td>\n",
       "      <td>Source Address Error</td>\n",
       "      <td>21.3.2/392</td>\n",
       "    </tr>\n",
       "    <tr>\n",
       "      <th>ES</th>\n",
       "      <td>ES.VLD</td>\n",
       "      <td>True</td>\n",
       "      <td>Logical OR of all ERR status bits</td>\n",
       "      <td>21.3.2/392</td>\n",
       "    </tr>\n",
       "    <tr>\n",
       "      <th>ES</th>\n",
       "      <td>ES.SBE</td>\n",
       "      <td>False</td>\n",
       "      <td>Source Bus Error</td>\n",
       "      <td>21.3.2/392</td>\n",
       "    </tr>\n",
       "    <tr>\n",
       "      <th>ES</th>\n",
       "      <td>ES.DOE</td>\n",
       "      <td>False</td>\n",
       "      <td>Destination Offset Error</td>\n",
       "      <td>21.3.2/392</td>\n",
       "    </tr>\n",
       "    <tr>\n",
       "      <th>ES</th>\n",
       "      <td>ES.SGE</td>\n",
       "      <td>False</td>\n",
       "      <td>Scatter/Gather Configuration Error</td>\n",
       "      <td>21.3.2/392</td>\n",
       "    </tr>\n",
       "    <tr>\n",
       "      <th>ES</th>\n",
       "      <td>ES.NCE</td>\n",
       "      <td>True</td>\n",
       "      <td>NBYTES/CITER Configuration Error</td>\n",
       "      <td>21.3.2/392</td>\n",
       "    </tr>\n",
       "    <tr>\n",
       "      <th>ES</th>\n",
       "      <td>ES.ECX</td>\n",
       "      <td>False</td>\n",
       "      <td>Transfer Cancelled</td>\n",
       "      <td>21.3.2/392</td>\n",
       "    </tr>\n",
       "    <tr>\n",
       "      <th>CR</th>\n",
       "      <td>CR.CLM</td>\n",
       "      <td>False</td>\n",
       "      <td>Continuous Link Mode</td>\n",
       "      <td>21.3.1/391</td>\n",
       "    </tr>\n",
       "    <tr>\n",
       "      <th>CR</th>\n",
       "      <td>CR.HOE</td>\n",
       "      <td>False</td>\n",
       "      <td>Halt On Error</td>\n",
       "      <td>21.3.1/391</td>\n",
       "    </tr>\n",
       "    <tr>\n",
       "      <th>CR</th>\n",
       "      <td>CR.HALT</td>\n",
       "      <td>False</td>\n",
       "      <td>Halt DMA Operations</td>\n",
       "      <td>21.3.1/391</td>\n",
       "    </tr>\n",
       "    <tr>\n",
       "      <th>CR</th>\n",
       "      <td>CR.EDBG</td>\n",
       "      <td>False</td>\n",
       "      <td>Enable Debug</td>\n",
       "      <td>21.3.1/391</td>\n",
       "    </tr>\n",
       "    <tr>\n",
       "      <th>CR</th>\n",
       "      <td>CR.CX</td>\n",
       "      <td>False</td>\n",
       "      <td>Cancel Transfer</td>\n",
       "      <td>21.3.1/391</td>\n",
       "    </tr>\n",
       "    <tr>\n",
       "      <th>CR</th>\n",
       "      <td>CR.EMLM</td>\n",
       "      <td>False</td>\n",
       "      <td>Enable Minor Loop Mapping</td>\n",
       "      <td>21.3.1/391</td>\n",
       "    </tr>\n",
       "    <tr>\n",
       "      <th>CR</th>\n",
       "      <td>CR.ERCA</td>\n",
       "      <td>False</td>\n",
       "      <td>Enable Round Robin Channel Arbitration</td>\n",
       "      <td>21.3.1/391</td>\n",
       "    </tr>\n",
       "    <tr>\n",
       "      <th>CR</th>\n",
       "      <td>CR.ECX</td>\n",
       "      <td>False</td>\n",
       "      <td>Error Cancel Transfer</td>\n",
       "      <td>21.3.1/391</td>\n",
       "    </tr>\n",
       "  </tbody>\n",
       "</table>\n",
       "</div>"
      ],
      "text/plain": [
       "             full_name  value  \\\n",
       "parent_name                     \n",
       "                   ERQ      0   \n",
       "                   ERR      1   \n",
       "                   INT      0   \n",
       "                   EEI      0   \n",
       "                   HRS      0   \n",
       "ES              ES.DAE  False   \n",
       "ES              ES.SOE  False   \n",
       "ES              ES.DBE  False   \n",
       "ES           ES.ERRCHN      0   \n",
       "ES              ES.CPE  False   \n",
       "ES              ES.SAE  False   \n",
       "ES              ES.VLD   True   \n",
       "ES              ES.SBE  False   \n",
       "ES              ES.DOE  False   \n",
       "ES              ES.SGE  False   \n",
       "ES              ES.NCE   True   \n",
       "ES              ES.ECX  False   \n",
       "CR              CR.CLM  False   \n",
       "CR              CR.HOE  False   \n",
       "CR             CR.HALT  False   \n",
       "CR             CR.EDBG  False   \n",
       "CR               CR.CX  False   \n",
       "CR             CR.EMLM  False   \n",
       "CR             CR.ERCA  False   \n",
       "CR              CR.ECX  False   \n",
       "\n",
       "                                            short_description         page  \n",
       "parent_name                                                                 \n",
       "                                      Enable Request Register   21.3.3/394  \n",
       "                                               Error Register  21.3.14/409  \n",
       "                                   Interrupt Request Register  21.3.13/406  \n",
       "                              Enable Error Interrupt Register   21.3.4/397  \n",
       "                             Hardware Request Status Register  21.3.15/411  \n",
       "ES                                  Destination Address Error   21.3.2/392  \n",
       "ES                                        Source Offset Error   21.3.2/392  \n",
       "ES                                      Destination Bus Error   21.3.2/392  \n",
       "ES           Error Channel Number or Cancelled Channel Number   21.3.2/392  \n",
       "ES                                     Channel Priority Error   21.3.2/392  \n",
       "ES                                       Source Address Error   21.3.2/392  \n",
       "ES                          Logical OR of all ERR status bits   21.3.2/392  \n",
       "ES                                           Source Bus Error   21.3.2/392  \n",
       "ES                                   Destination Offset Error   21.3.2/392  \n",
       "ES                         Scatter/Gather Configuration Error   21.3.2/392  \n",
       "ES                           NBYTES/CITER Configuration Error   21.3.2/392  \n",
       "ES                                         Transfer Cancelled   21.3.2/392  \n",
       "CR                                       Continuous Link Mode   21.3.1/391  \n",
       "CR                                              Halt On Error   21.3.1/391  \n",
       "CR                                        Halt DMA Operations   21.3.1/391  \n",
       "CR                                               Enable Debug   21.3.1/391  \n",
       "CR                                            Cancel Transfer   21.3.1/391  \n",
       "CR                                  Enable Minor Loop Mapping   21.3.1/391  \n",
       "CR                     Enable Round Robin Channel Arbitration   21.3.1/391  \n",
       "CR                                      Error Cancel Transfer   21.3.1/391  "
      ]
     },
     "metadata": {},
     "output_type": "display_data"
    }
   ],
   "source": [
    "dma_registers = dma.Registers.FromString(proxy.read_dma_registers().tostring())\n",
    "df_dma = resolve_field_values(dma_registers)\n",
    "display(df_dma.dropna(subset=['value'])\n",
    "        .join(DMA_REG_DESCRIPTIONS, on='full_name')\n",
    "        [['full_name', 'value', 'short_description', 'page']])"
   ]
  },
  {
   "cell_type": "code",
   "execution_count": 52,
   "metadata": {
    "collapsed": false
   },
   "outputs": [
    {
     "data": {
      "text/html": [
       "<div>\n",
       "<table border=\"1\" class=\"dataframe\">\n",
       "  <thead>\n",
       "    <tr style=\"text-align: right;\">\n",
       "      <th></th>\n",
       "      <th>full_name</th>\n",
       "      <th>value</th>\n",
       "      <th>short_description</th>\n",
       "      <th>page</th>\n",
       "    </tr>\n",
       "    <tr>\n",
       "      <th>parent_name</th>\n",
       "      <th></th>\n",
       "      <th></th>\n",
       "      <th></th>\n",
       "      <th></th>\n",
       "    </tr>\n",
       "  </thead>\n",
       "  <tbody>\n",
       "    <tr>\n",
       "      <th></th>\n",
       "      <td>SADDR</td>\n",
       "      <td>0</td>\n",
       "      <td>Source Address</td>\n",
       "      <td>21.3.17/415</td>\n",
       "    </tr>\n",
       "    <tr>\n",
       "      <th></th>\n",
       "      <td>SOFF</td>\n",
       "      <td>0</td>\n",
       "      <td>Source Address Signed offset</td>\n",
       "      <td>21.3.18/415</td>\n",
       "    </tr>\n",
       "    <tr>\n",
       "      <th>ATTR</th>\n",
       "      <td>ATTR.DMOD</td>\n",
       "      <td>0</td>\n",
       "      <td>Destination Address Modulo</td>\n",
       "      <td>21.3.19/416</td>\n",
       "    </tr>\n",
       "    <tr>\n",
       "      <th>ATTR</th>\n",
       "      <td>ATTR.DSIZE</td>\n",
       "      <td>_8_BIT</td>\n",
       "      <td>Destination data transfer size</td>\n",
       "      <td>21.3.19/416</td>\n",
       "    </tr>\n",
       "    <tr>\n",
       "      <th>ATTR</th>\n",
       "      <td>ATTR.SMOD</td>\n",
       "      <td>0</td>\n",
       "      <td>Source Address Modulo.</td>\n",
       "      <td>21.3.19/416</td>\n",
       "    </tr>\n",
       "    <tr>\n",
       "      <th>ATTR</th>\n",
       "      <td>ATTR.SSIZE</td>\n",
       "      <td>_8_BIT</td>\n",
       "      <td>Source data transfer size</td>\n",
       "      <td>21.3.19/416</td>\n",
       "    </tr>\n",
       "    <tr>\n",
       "      <th></th>\n",
       "      <td>NBYTES_MLNO</td>\n",
       "      <td>0</td>\n",
       "      <td>Minor Byte Transfer Count</td>\n",
       "      <td>21.3.20/417</td>\n",
       "    </tr>\n",
       "    <tr>\n",
       "      <th></th>\n",
       "      <td>SLAST</td>\n",
       "      <td>0</td>\n",
       "      <td>Last source Address Adjustment</td>\n",
       "      <td>21.3.23/420</td>\n",
       "    </tr>\n",
       "    <tr>\n",
       "      <th></th>\n",
       "      <td>DADDR</td>\n",
       "      <td>0</td>\n",
       "      <td>Destination Address</td>\n",
       "      <td>21.3.24/420</td>\n",
       "    </tr>\n",
       "    <tr>\n",
       "      <th></th>\n",
       "      <td>DOFF</td>\n",
       "      <td>0</td>\n",
       "      <td>Destination Address Signed offset</td>\n",
       "      <td>21.3.25/421</td>\n",
       "    </tr>\n",
       "    <tr>\n",
       "      <th>CITER_ELINKNO</th>\n",
       "      <td>CITER_ELINKNO.ELINK</td>\n",
       "      <td>False</td>\n",
       "      <td>Enable channel-to-channel linking on minor-loo...</td>\n",
       "      <td>21.3.27/422</td>\n",
       "    </tr>\n",
       "    <tr>\n",
       "      <th>CITER_ELINKNO</th>\n",
       "      <td>CITER_ELINKNO.ITER</td>\n",
       "      <td>0</td>\n",
       "      <td>Current Major Iteration Count</td>\n",
       "      <td>21.3.27/422</td>\n",
       "    </tr>\n",
       "    <tr>\n",
       "      <th></th>\n",
       "      <td>DLASTSGA</td>\n",
       "      <td>0</td>\n",
       "      <td>Destination last address adjustment or the mem...</td>\n",
       "      <td>21.3.28/423</td>\n",
       "    </tr>\n",
       "    <tr>\n",
       "      <th>CSR</th>\n",
       "      <td>CSR.ACTIVE</td>\n",
       "      <td>False</td>\n",
       "      <td>Channel Active</td>\n",
       "      <td>21.3.29/424</td>\n",
       "    </tr>\n",
       "    <tr>\n",
       "      <th>CSR</th>\n",
       "      <td>CSR.BWC</td>\n",
       "      <td>NO_STALLS</td>\n",
       "      <td>Bandwidth Control</td>\n",
       "      <td>21.3.29/424</td>\n",
       "    </tr>\n",
       "    <tr>\n",
       "      <th>CSR</th>\n",
       "      <td>CSR.DONE</td>\n",
       "      <td>False</td>\n",
       "      <td>Channel Done</td>\n",
       "      <td>21.3.29/424</td>\n",
       "    </tr>\n",
       "    <tr>\n",
       "      <th>CSR</th>\n",
       "      <td>CSR.DREQ</td>\n",
       "      <td>False</td>\n",
       "      <td>Disable Request</td>\n",
       "      <td>21.3.29/424</td>\n",
       "    </tr>\n",
       "    <tr>\n",
       "      <th>CSR</th>\n",
       "      <td>CSR.ESG</td>\n",
       "      <td>False</td>\n",
       "      <td>Enable Scatter/Gather Processing</td>\n",
       "      <td>21.3.29/424</td>\n",
       "    </tr>\n",
       "    <tr>\n",
       "      <th>CSR</th>\n",
       "      <td>CSR.INTHALF</td>\n",
       "      <td>False</td>\n",
       "      <td>Enable an interrupt when major counter is half...</td>\n",
       "      <td>21.3.29/424</td>\n",
       "    </tr>\n",
       "    <tr>\n",
       "      <th>CSR</th>\n",
       "      <td>CSR.INTMAJOR</td>\n",
       "      <td>False</td>\n",
       "      <td>Enable an interrupt when major iteration count...</td>\n",
       "      <td>21.3.29/424</td>\n",
       "    </tr>\n",
       "    <tr>\n",
       "      <th>CSR</th>\n",
       "      <td>CSR.MAJORELINK</td>\n",
       "      <td>False</td>\n",
       "      <td>Enable channel-to-channel linking on major loo...</td>\n",
       "      <td>21.3.29/424</td>\n",
       "    </tr>\n",
       "    <tr>\n",
       "      <th>CSR</th>\n",
       "      <td>CSR.MAJORLINKCH</td>\n",
       "      <td>0</td>\n",
       "      <td>Link Channel Number</td>\n",
       "      <td>21.3.29/424</td>\n",
       "    </tr>\n",
       "    <tr>\n",
       "      <th>BITER_ELINKNO</th>\n",
       "      <td>BITER_ELINKNO.ELINK</td>\n",
       "      <td>False</td>\n",
       "      <td>Enable channel-to-channel linking on minor-loo...</td>\n",
       "      <td>21.3.31/427</td>\n",
       "    </tr>\n",
       "    <tr>\n",
       "      <th>BITER_ELINKNO</th>\n",
       "      <td>BITER_ELINKNO.ITER</td>\n",
       "      <td>0</td>\n",
       "      <td>Beginning Major Iteration Count</td>\n",
       "      <td>21.3.31/427</td>\n",
       "    </tr>\n",
       "  </tbody>\n",
       "</table>\n",
       "</div>"
      ],
      "text/plain": [
       "                         full_name      value  \\\n",
       "parent_name                                     \n",
       "                             SADDR          0   \n",
       "                              SOFF          0   \n",
       "ATTR                     ATTR.DMOD          0   \n",
       "ATTR                    ATTR.DSIZE     _8_BIT   \n",
       "ATTR                     ATTR.SMOD          0   \n",
       "ATTR                    ATTR.SSIZE     _8_BIT   \n",
       "                       NBYTES_MLNO          0   \n",
       "                             SLAST          0   \n",
       "                             DADDR          0   \n",
       "                              DOFF          0   \n",
       "CITER_ELINKNO  CITER_ELINKNO.ELINK      False   \n",
       "CITER_ELINKNO   CITER_ELINKNO.ITER          0   \n",
       "                          DLASTSGA          0   \n",
       "CSR                     CSR.ACTIVE      False   \n",
       "CSR                        CSR.BWC  NO_STALLS   \n",
       "CSR                       CSR.DONE      False   \n",
       "CSR                       CSR.DREQ      False   \n",
       "CSR                        CSR.ESG      False   \n",
       "CSR                    CSR.INTHALF      False   \n",
       "CSR                   CSR.INTMAJOR      False   \n",
       "CSR                 CSR.MAJORELINK      False   \n",
       "CSR                CSR.MAJORLINKCH          0   \n",
       "BITER_ELINKNO  BITER_ELINKNO.ELINK      False   \n",
       "BITER_ELINKNO   BITER_ELINKNO.ITER          0   \n",
       "\n",
       "                                               short_description         page  \n",
       "parent_name                                                                    \n",
       "                                                  Source Address  21.3.17/415  \n",
       "                                    Source Address Signed offset  21.3.18/415  \n",
       "ATTR                                  Destination Address Modulo  21.3.19/416  \n",
       "ATTR                              Destination data transfer size  21.3.19/416  \n",
       "ATTR                                      Source Address Modulo.  21.3.19/416  \n",
       "ATTR                                   Source data transfer size  21.3.19/416  \n",
       "                                       Minor Byte Transfer Count  21.3.20/417  \n",
       "                                  Last source Address Adjustment  21.3.23/420  \n",
       "                                             Destination Address  21.3.24/420  \n",
       "                               Destination Address Signed offset  21.3.25/421  \n",
       "CITER_ELINKNO  Enable channel-to-channel linking on minor-loo...  21.3.27/422  \n",
       "CITER_ELINKNO                      Current Major Iteration Count  21.3.27/422  \n",
       "               Destination last address adjustment or the mem...  21.3.28/423  \n",
       "CSR                                               Channel Active  21.3.29/424  \n",
       "CSR                                            Bandwidth Control  21.3.29/424  \n",
       "CSR                                                 Channel Done  21.3.29/424  \n",
       "CSR                                              Disable Request  21.3.29/424  \n",
       "CSR                             Enable Scatter/Gather Processing  21.3.29/424  \n",
       "CSR            Enable an interrupt when major counter is half...  21.3.29/424  \n",
       "CSR            Enable an interrupt when major iteration count...  21.3.29/424  \n",
       "CSR            Enable channel-to-channel linking on major loo...  21.3.29/424  \n",
       "CSR                                          Link Channel Number  21.3.29/424  \n",
       "BITER_ELINKNO  Enable channel-to-channel linking on minor-loo...  21.3.31/427  \n",
       "BITER_ELINKNO                    Beginning Major Iteration Count  21.3.31/427  "
      ]
     },
     "metadata": {},
     "output_type": "display_data"
    }
   ],
   "source": [
    "init_dma(proxy)\n",
    "proxy.update_dma_TCD(0, dma.TCD(CSR=dma.R_TCD_CSR(BWC=dma.R_TCD_CSR.NO_STALLS)))\n",
    "tcd0 = dma.TCD.FromString(proxy.read_dma_TCD(0).tostring())\n",
    "df_tcd0 = resolve_field_values(tcd0)\n",
    "display(df_tcd0[['full_name', 'value']].dropna()\n",
    "        .join(TCD_DESCRIPTIONS, on='full_name')\n",
    "        [['full_name', 'value', 'short_description', 'page']]\n",
    "        .sort_values(['page','full_name']))"
   ]
  },
  {
   "cell_type": "code",
   "execution_count": 30,
   "metadata": {
    "collapsed": false
   },
   "outputs": [
    {
     "data": {
      "text/html": [
       "<div>\n",
       "<table border=\"1\" class=\"dataframe\">\n",
       "  <thead>\n",
       "    <tr style=\"text-align: right;\">\n",
       "      <th></th>\n",
       "      <th>full_name</th>\n",
       "      <th>value</th>\n",
       "    </tr>\n",
       "    <tr>\n",
       "      <th>parent_name</th>\n",
       "      <th></th>\n",
       "      <th></th>\n",
       "    </tr>\n",
       "  </thead>\n",
       "  <tbody>\n",
       "    <tr>\n",
       "      <th></th>\n",
       "      <td>CLMD</td>\n",
       "      <td>13</td>\n",
       "    </tr>\n",
       "    <tr>\n",
       "      <th></th>\n",
       "      <td>CLPS</td>\n",
       "      <td>44</td>\n",
       "    </tr>\n",
       "    <tr>\n",
       "      <th></th>\n",
       "      <td>CLMS</td>\n",
       "      <td>42</td>\n",
       "    </tr>\n",
       "    <tr>\n",
       "      <th></th>\n",
       "      <td>CLPD</td>\n",
       "      <td>15</td>\n",
       "    </tr>\n",
       "    <tr>\n",
       "      <th></th>\n",
       "      <td>PG</td>\n",
       "      <td>33468</td>\n",
       "    </tr>\n",
       "    <tr>\n",
       "      <th></th>\n",
       "      <td>RB</td>\n",
       "      <td>0</td>\n",
       "    </tr>\n",
       "    <tr>\n",
       "      <th></th>\n",
       "      <td>RA</td>\n",
       "      <td>0</td>\n",
       "    </tr>\n",
       "    <tr>\n",
       "      <th></th>\n",
       "      <td>OFS</td>\n",
       "      <td>1</td>\n",
       "    </tr>\n",
       "    <tr>\n",
       "      <th></th>\n",
       "      <td>MG</td>\n",
       "      <td>33469</td>\n",
       "    </tr>\n",
       "    <tr>\n",
       "      <th></th>\n",
       "      <td>CLP1</td>\n",
       "      <td>86</td>\n",
       "    </tr>\n",
       "    <tr>\n",
       "      <th></th>\n",
       "      <td>CLP0</td>\n",
       "      <td>43</td>\n",
       "    </tr>\n",
       "    <tr>\n",
       "      <th></th>\n",
       "      <td>CLP3</td>\n",
       "      <td>339</td>\n",
       "    </tr>\n",
       "    <tr>\n",
       "      <th></th>\n",
       "      <td>CLP2</td>\n",
       "      <td>172</td>\n",
       "    </tr>\n",
       "    <tr>\n",
       "      <th></th>\n",
       "      <td>CV2</td>\n",
       "      <td>0</td>\n",
       "    </tr>\n",
       "    <tr>\n",
       "      <th></th>\n",
       "      <td>CLP4</td>\n",
       "      <td>670</td>\n",
       "    </tr>\n",
       "    <tr>\n",
       "      <th></th>\n",
       "      <td>CV1</td>\n",
       "      <td>0</td>\n",
       "    </tr>\n",
       "    <tr>\n",
       "      <th></th>\n",
       "      <td>CLM2</td>\n",
       "      <td>160</td>\n",
       "    </tr>\n",
       "    <tr>\n",
       "      <th></th>\n",
       "      <td>CLM3</td>\n",
       "      <td>318</td>\n",
       "    </tr>\n",
       "    <tr>\n",
       "      <th></th>\n",
       "      <td>CLM0</td>\n",
       "      <td>41</td>\n",
       "    </tr>\n",
       "    <tr>\n",
       "      <th></th>\n",
       "      <td>CLM1</td>\n",
       "      <td>81</td>\n",
       "    </tr>\n",
       "    <tr>\n",
       "      <th></th>\n",
       "      <td>CLM4</td>\n",
       "      <td>632</td>\n",
       "    </tr>\n",
       "    <tr>\n",
       "      <th>CFG2</th>\n",
       "      <td>CFG2.MUXSEL</td>\n",
       "      <td>B</td>\n",
       "    </tr>\n",
       "    <tr>\n",
       "      <th>CFG2</th>\n",
       "      <td>CFG2.ADLSTS</td>\n",
       "      <td>ADD_12_ADCK_CYCLES</td>\n",
       "    </tr>\n",
       "    <tr>\n",
       "      <th>CFG2</th>\n",
       "      <td>CFG2.ADHSC</td>\n",
       "      <td>False</td>\n",
       "    </tr>\n",
       "    <tr>\n",
       "      <th>CFG2</th>\n",
       "      <td>CFG2.ADACKEN</td>\n",
       "      <td>False</td>\n",
       "    </tr>\n",
       "    <tr>\n",
       "      <th>CFG1</th>\n",
       "      <td>CFG1.ADICLK</td>\n",
       "      <td>BUS_CLOCK_DIV_2</td>\n",
       "    </tr>\n",
       "    <tr>\n",
       "      <th>CFG1</th>\n",
       "      <td>CFG1.MODE</td>\n",
       "      <td>_10_BIT</td>\n",
       "    </tr>\n",
       "    <tr>\n",
       "      <th>CFG1</th>\n",
       "      <td>CFG1.ADIV</td>\n",
       "      <td>EIGHT</td>\n",
       "    </tr>\n",
       "    <tr>\n",
       "      <th>CFG1</th>\n",
       "      <td>CFG1.ADLPC</td>\n",
       "      <td>True</td>\n",
       "    </tr>\n",
       "    <tr>\n",
       "      <th>SC1A</th>\n",
       "      <td>SC1A.COCO</td>\n",
       "      <td>True</td>\n",
       "    </tr>\n",
       "    <tr>\n",
       "      <th>SC1A</th>\n",
       "      <td>SC1A.DIFF</td>\n",
       "      <td>False</td>\n",
       "    </tr>\n",
       "    <tr>\n",
       "      <th>SC1A</th>\n",
       "      <td>SC1A.AIEN</td>\n",
       "      <td>False</td>\n",
       "    </tr>\n",
       "    <tr>\n",
       "      <th>SC1A</th>\n",
       "      <td>SC1A.ADCH</td>\n",
       "      <td>31</td>\n",
       "    </tr>\n",
       "    <tr>\n",
       "      <th>SC1B</th>\n",
       "      <td>SC1B.COCO</td>\n",
       "      <td>False</td>\n",
       "    </tr>\n",
       "    <tr>\n",
       "      <th>SC1B</th>\n",
       "      <td>SC1B.DIFF</td>\n",
       "      <td>False</td>\n",
       "    </tr>\n",
       "    <tr>\n",
       "      <th>SC1B</th>\n",
       "      <td>SC1B.AIEN</td>\n",
       "      <td>False</td>\n",
       "    </tr>\n",
       "    <tr>\n",
       "      <th>SC1B</th>\n",
       "      <td>SC1B.ADCH</td>\n",
       "      <td>31</td>\n",
       "    </tr>\n",
       "    <tr>\n",
       "      <th>PGA</th>\n",
       "      <td>PGA.PGAEN</td>\n",
       "      <td>False</td>\n",
       "    </tr>\n",
       "    <tr>\n",
       "      <th>PGA</th>\n",
       "      <td>PGA.PGALPB</td>\n",
       "      <td>False</td>\n",
       "    </tr>\n",
       "    <tr>\n",
       "      <th>PGA</th>\n",
       "      <td>PGA.PGAG</td>\n",
       "      <td>_1</td>\n",
       "    </tr>\n",
       "    <tr>\n",
       "      <th>SC3</th>\n",
       "      <td>SC3.AVGE</td>\n",
       "      <td>True</td>\n",
       "    </tr>\n",
       "    <tr>\n",
       "      <th>SC3</th>\n",
       "      <td>SC3.ADCO</td>\n",
       "      <td>False</td>\n",
       "    </tr>\n",
       "    <tr>\n",
       "      <th>SC3</th>\n",
       "      <td>SC3.AVGS</td>\n",
       "      <td>_32</td>\n",
       "    </tr>\n",
       "    <tr>\n",
       "      <th>SC3</th>\n",
       "      <td>SC3.CALF</td>\n",
       "      <td>False</td>\n",
       "    </tr>\n",
       "    <tr>\n",
       "      <th>SC3</th>\n",
       "      <td>SC3.CAL</td>\n",
       "      <td>False</td>\n",
       "    </tr>\n",
       "    <tr>\n",
       "      <th>SC2</th>\n",
       "      <td>SC2.DMAEN</td>\n",
       "      <td>False</td>\n",
       "    </tr>\n",
       "    <tr>\n",
       "      <th>SC2</th>\n",
       "      <td>SC2.REFSEL</td>\n",
       "      <td>DEFAULT</td>\n",
       "    </tr>\n",
       "    <tr>\n",
       "      <th>SC2</th>\n",
       "      <td>SC2.ADACT</td>\n",
       "      <td>False</td>\n",
       "    </tr>\n",
       "    <tr>\n",
       "      <th>SC2</th>\n",
       "      <td>SC2.ACFGT</td>\n",
       "      <td>False</td>\n",
       "    </tr>\n",
       "    <tr>\n",
       "      <th>SC2</th>\n",
       "      <td>SC2.ADTRG</td>\n",
       "      <td>SOFTWARE</td>\n",
       "    </tr>\n",
       "    <tr>\n",
       "      <th>SC2</th>\n",
       "      <td>SC2.ACREN</td>\n",
       "      <td>False</td>\n",
       "    </tr>\n",
       "    <tr>\n",
       "      <th>SC2</th>\n",
       "      <td>SC2.ACFE</td>\n",
       "      <td>False</td>\n",
       "    </tr>\n",
       "  </tbody>\n",
       "</table>\n",
       "</div>"
      ],
      "text/plain": [
       "                full_name               value\n",
       "parent_name                                  \n",
       "                     CLMD                  13\n",
       "                     CLPS                  44\n",
       "                     CLMS                  42\n",
       "                     CLPD                  15\n",
       "                       PG               33468\n",
       "                       RB                   0\n",
       "                       RA                   0\n",
       "                      OFS                   1\n",
       "                       MG               33469\n",
       "                     CLP1                  86\n",
       "                     CLP0                  43\n",
       "                     CLP3                 339\n",
       "                     CLP2                 172\n",
       "                      CV2                   0\n",
       "                     CLP4                 670\n",
       "                      CV1                   0\n",
       "                     CLM2                 160\n",
       "                     CLM3                 318\n",
       "                     CLM0                  41\n",
       "                     CLM1                  81\n",
       "                     CLM4                 632\n",
       "CFG2          CFG2.MUXSEL                   B\n",
       "CFG2          CFG2.ADLSTS  ADD_12_ADCK_CYCLES\n",
       "CFG2           CFG2.ADHSC               False\n",
       "CFG2         CFG2.ADACKEN               False\n",
       "CFG1          CFG1.ADICLK     BUS_CLOCK_DIV_2\n",
       "CFG1            CFG1.MODE             _10_BIT\n",
       "CFG1            CFG1.ADIV               EIGHT\n",
       "CFG1           CFG1.ADLPC                True\n",
       "SC1A            SC1A.COCO                True\n",
       "SC1A            SC1A.DIFF               False\n",
       "SC1A            SC1A.AIEN               False\n",
       "SC1A            SC1A.ADCH                  31\n",
       "SC1B            SC1B.COCO               False\n",
       "SC1B            SC1B.DIFF               False\n",
       "SC1B            SC1B.AIEN               False\n",
       "SC1B            SC1B.ADCH                  31\n",
       "PGA             PGA.PGAEN               False\n",
       "PGA            PGA.PGALPB               False\n",
       "PGA              PGA.PGAG                  _1\n",
       "SC3              SC3.AVGE                True\n",
       "SC3              SC3.ADCO               False\n",
       "SC3              SC3.AVGS                 _32\n",
       "SC3              SC3.CALF               False\n",
       "SC3               SC3.CAL               False\n",
       "SC2             SC2.DMAEN               False\n",
       "SC2            SC2.REFSEL             DEFAULT\n",
       "SC2             SC2.ADACT               False\n",
       "SC2             SC2.ACFGT               False\n",
       "SC2             SC2.ADTRG            SOFTWARE\n",
       "SC2             SC2.ACREN               False\n",
       "SC2              SC2.ACFE               False"
      ]
     },
     "metadata": {},
     "output_type": "display_data"
    }
   ],
   "source": [
    "adc0 = adc.Registers.FromString(proxy.read_adc_registers(0).tostring())\n",
    "df_adc0 = resolve_field_values(adc0)\n",
    "display(df_adc0[['full_name', 'value']].dropna())"
   ]
  },
  {
   "cell_type": "code",
   "execution_count": 31,
   "metadata": {
    "collapsed": false
   },
   "outputs": [
    {
     "data": {
      "text/plain": [
       "0"
      ]
     },
     "execution_count": 31,
     "metadata": {},
     "output_type": "execute_result"
    }
   ],
   "source": [
    "proxy.update_sim_SCGC6(sim.R_SCGC6(PIT=True))"
   ]
  },
  {
   "cell_type": "code",
   "execution_count": 51,
   "metadata": {
    "collapsed": false
   },
   "outputs": [
    {
     "data": {
      "text/html": [
       "<div>\n",
       "<table border=\"1\" class=\"dataframe\">\n",
       "  <thead>\n",
       "    <tr style=\"text-align: right;\">\n",
       "      <th>parent_name</th>\n",
       "      <th></th>\n",
       "      <th></th>\n",
       "      <th></th>\n",
       "      <th></th>\n",
       "      <th></th>\n",
       "      <th></th>\n",
       "      <th></th>\n",
       "      <th></th>\n",
       "      <th></th>\n",
       "      <th></th>\n",
       "      <th></th>\n",
       "      <th></th>\n",
       "      <th></th>\n",
       "      <th></th>\n",
       "    </tr>\n",
       "  </thead>\n",
       "  <tbody>\n",
       "    <tr>\n",
       "      <th>full_name</th>\n",
       "      <td>USBDCD</td>\n",
       "      <td>SPI0</td>\n",
       "      <td>SPI1</td>\n",
       "      <td>RTC</td>\n",
       "      <td>FTM1</td>\n",
       "      <td>FTM0</td>\n",
       "      <td>I2S</td>\n",
       "      <td>DMAMUX</td>\n",
       "      <td>CRC</td>\n",
       "      <td>FTFL</td>\n",
       "      <td>ADC0</td>\n",
       "      <td>FLEXCAN0</td>\n",
       "      <td>PIT</td>\n",
       "      <td>PDB</td>\n",
       "    </tr>\n",
       "    <tr>\n",
       "      <th>value</th>\n",
       "      <td>False</td>\n",
       "      <td>False</td>\n",
       "      <td>False</td>\n",
       "      <td>True</td>\n",
       "      <td>True</td>\n",
       "      <td>True</td>\n",
       "      <td>False</td>\n",
       "      <td>False</td>\n",
       "      <td>False</td>\n",
       "      <td>True</td>\n",
       "      <td>True</td>\n",
       "      <td>False</td>\n",
       "      <td>False</td>\n",
       "      <td>False</td>\n",
       "    </tr>\n",
       "  </tbody>\n",
       "</table>\n",
       "</div>"
      ],
      "text/plain": [
       "parent_name                                                                \\\n",
       "full_name    USBDCD   SPI0   SPI1   RTC  FTM1  FTM0    I2S  DMAMUX    CRC   \n",
       "value         False  False  False  True  True  True  False   False  False   \n",
       "\n",
       "parent_name                                      \n",
       "full_name    FTFL  ADC0  FLEXCAN0    PIT    PDB  \n",
       "value        True  True     False  False  False  "
      ]
     },
     "metadata": {},
     "output_type": "display_data"
    },
    {
     "data": {
      "text/html": [
       "<div>\n",
       "<table border=\"1\" class=\"dataframe\">\n",
       "  <thead>\n",
       "    <tr style=\"text-align: right;\">\n",
       "      <th>parent_name</th>\n",
       "      <th></th>\n",
       "    </tr>\n",
       "  </thead>\n",
       "  <tbody>\n",
       "    <tr>\n",
       "      <th>full_name</th>\n",
       "      <td>DMA</td>\n",
       "    </tr>\n",
       "    <tr>\n",
       "      <th>value</th>\n",
       "      <td>True</td>\n",
       "    </tr>\n",
       "  </tbody>\n",
       "</table>\n",
       "</div>"
      ],
      "text/plain": [
       "parent_name      \n",
       "full_name     DMA\n",
       "value        True"
      ]
     },
     "metadata": {},
     "output_type": "display_data"
    }
   ],
   "source": [
    "scgc6 = sim.R_SCGC6.FromString(proxy.read_sim_SCGC6().tostring())\n",
    "df_scgc6_fields = resolve_field_values(scgc6)\n",
    "display(df_scgc6_fields[['full_name', 'value']].dropna().T)\n",
    "\n",
    "scgc7 = sim.R_SCGC7.FromString(proxy.read_sim_SCGC7().tostring())\n",
    "df_scgc7_fields = resolve_field_values(scgc7)\n",
    "display(df_scgc7_fields[['full_name', 'value']].dropna().T)"
   ]
  },
  {
   "cell_type": "code",
   "execution_count": 33,
   "metadata": {
    "collapsed": false
   },
   "outputs": [
    {
     "data": {
      "text/html": [
       "<div>\n",
       "<table border=\"1\" class=\"dataframe\">\n",
       "  <thead>\n",
       "    <tr style=\"text-align: right;\">\n",
       "      <th></th>\n",
       "      <th>full_name</th>\n",
       "      <th>value</th>\n",
       "    </tr>\n",
       "    <tr>\n",
       "      <th>parent_name</th>\n",
       "      <th></th>\n",
       "      <th></th>\n",
       "    </tr>\n",
       "  </thead>\n",
       "  <tbody>\n",
       "    <tr>\n",
       "      <th>MCR</th>\n",
       "      <td>MCR.FRZ</td>\n",
       "      <td>False</td>\n",
       "    </tr>\n",
       "    <tr>\n",
       "      <th>MCR</th>\n",
       "      <td>MCR.MDIS</td>\n",
       "      <td>True</td>\n",
       "    </tr>\n",
       "  </tbody>\n",
       "</table>\n",
       "</div>"
      ],
      "text/plain": [
       "            full_name  value\n",
       "parent_name                 \n",
       "MCR           MCR.FRZ  False\n",
       "MCR          MCR.MDIS   True"
      ]
     },
     "metadata": {},
     "output_type": "display_data"
    },
    {
     "data": {
      "text/html": [
       "<div>\n",
       "<table border=\"1\" class=\"dataframe\">\n",
       "  <thead>\n",
       "    <tr style=\"text-align: right;\">\n",
       "      <th></th>\n",
       "      <th>full_name</th>\n",
       "      <th>value</th>\n",
       "      <th>short_description</th>\n",
       "      <th>description</th>\n",
       "      <th>page</th>\n",
       "    </tr>\n",
       "    <tr>\n",
       "      <th>parent_name</th>\n",
       "      <th></th>\n",
       "      <th></th>\n",
       "      <th></th>\n",
       "      <th></th>\n",
       "      <th></th>\n",
       "    </tr>\n",
       "  </thead>\n",
       "  <tbody>\n",
       "    <tr>\n",
       "      <th></th>\n",
       "      <td>LDVAL</td>\n",
       "      <td>0</td>\n",
       "      <td>Timer Start Value</td>\n",
       "      <td>Sets the timer start value. The timer will cou...</td>\n",
       "      <td>37.3.2/904</td>\n",
       "    </tr>\n",
       "    <tr>\n",
       "      <th></th>\n",
       "      <td>CVAL</td>\n",
       "      <td>0</td>\n",
       "      <td>Current Timer Value</td>\n",
       "      <td>Represents the current timer value, if the tim...</td>\n",
       "      <td>37.3.3/905</td>\n",
       "    </tr>\n",
       "    <tr>\n",
       "      <th>TCTRL</th>\n",
       "      <td>TCTRL.TIE</td>\n",
       "      <td>False</td>\n",
       "      <td>Timer Interrupt Enable</td>\n",
       "      <td>When an interrupt is pending, or, TFLGn[TIF] i...</td>\n",
       "      <td>37.3.4/905</td>\n",
       "    </tr>\n",
       "    <tr>\n",
       "      <th>TCTRL</th>\n",
       "      <td>TCTRL.TEN</td>\n",
       "      <td>False</td>\n",
       "      <td>Timer Enable</td>\n",
       "      <td>Enables or disables the timer. 0: Timer n is d...</td>\n",
       "      <td>37.3.4/905</td>\n",
       "    </tr>\n",
       "    <tr>\n",
       "      <th>TCTRL</th>\n",
       "      <td>TCTRL.CHN</td>\n",
       "      <td>False</td>\n",
       "      <td>Chain Mode</td>\n",
       "      <td>When activated, Timer n-1 needs to expire befo...</td>\n",
       "      <td>37.3.4/905</td>\n",
       "    </tr>\n",
       "    <tr>\n",
       "      <th>TFLG</th>\n",
       "      <td>TFLG.TIF</td>\n",
       "      <td>False</td>\n",
       "      <td>Timer Interrupt Flag</td>\n",
       "      <td>Sets to 1 at the end of the timer period. Writ...</td>\n",
       "      <td>37.3.5/906</td>\n",
       "    </tr>\n",
       "  </tbody>\n",
       "</table>\n",
       "</div>"
      ],
      "text/plain": [
       "             full_name  value       short_description  \\\n",
       "parent_name                                             \n",
       "                 LDVAL      0       Timer Start Value   \n",
       "                  CVAL      0     Current Timer Value   \n",
       "TCTRL        TCTRL.TIE  False  Timer Interrupt Enable   \n",
       "TCTRL        TCTRL.TEN  False            Timer Enable   \n",
       "TCTRL        TCTRL.CHN  False              Chain Mode   \n",
       "TFLG          TFLG.TIF  False    Timer Interrupt Flag   \n",
       "\n",
       "                                                   description        page  \n",
       "parent_name                                                                 \n",
       "             Sets the timer start value. The timer will cou...  37.3.2/904  \n",
       "             Represents the current timer value, if the tim...  37.3.3/905  \n",
       "TCTRL        When an interrupt is pending, or, TFLGn[TIF] i...  37.3.4/905  \n",
       "TCTRL        Enables or disables the timer. 0: Timer n is d...  37.3.4/905  \n",
       "TCTRL        When activated, Timer n-1 needs to expire befo...  37.3.4/905  \n",
       "TFLG         Sets to 1 at the end of the timer period. Writ...  37.3.5/906  "
      ]
     },
     "metadata": {},
     "output_type": "display_data"
    }
   ],
   "source": [
    "pit_registers = pit.Registers.FromString(proxy.read_pit_registers().tostring())\n",
    "df_pit_registers = resolve_field_values(pit_registers)\n",
    "display(df_pit_registers[['full_name', 'value']].dropna())\n",
    "\n",
    "pit_tmr0 = pit.TimerConfig.FromString(proxy.read_pit_timer_config(0).tostring())\n",
    "df_pit_tmr0 = resolve_field_values(pit_tmr0)\n",
    "display(df_pit_tmr0[['full_name', 'value']].dropna()\n",
    "        .join(TIMER_CONFIG_DESCRIPTIONS, on='full_name'))"
   ]
  },
  {
   "cell_type": "code",
   "execution_count": 34,
   "metadata": {
    "collapsed": false
   },
   "outputs": [
    {
     "data": {
      "text/plain": [
       "(96000000, 48000000)"
      ]
     },
     "execution_count": 34,
     "metadata": {},
     "output_type": "execute_result"
    }
   ],
   "source": [
    "proxy.D__F_CPU(), proxy.D__F_BUS()"
   ]
  },
  {
   "cell_type": "code",
   "execution_count": 35,
   "metadata": {
    "collapsed": false
   },
   "outputs": [
    {
     "data": {
      "text/plain": [
       "16"
      ]
     },
     "execution_count": 35,
     "metadata": {},
     "output_type": "execute_result"
    }
   ],
   "source": [
    "proxy.dma_channel_count()"
   ]
  },
  {
   "cell_type": "code",
   "execution_count": 36,
   "metadata": {
    "collapsed": false
   },
   "outputs": [],
   "source": [
    "frames = []\n",
    "\n",
    "for i in xrange(proxy.dma_channel_count()):\n",
    "    tcd = dma.TCD.FromString(proxy.read_dma_TCD(i).tostring())\n",
    "    frame = resolve_field_values(tcd)\n",
    "    frame.insert(0, 'channel', i)\n",
    "    frames.append(frame)\n",
    "\n",
    "df_tdc_fields = pd.concat(frames)\n",
    "# df_tdc_fields[['channel', 'full_name', 'value']].dropna().loc['CSR']"
   ]
  },
  {
   "cell_type": "code",
   "execution_count": 49,
   "metadata": {
    "collapsed": false
   },
   "outputs": [
    {
     "data": {
      "text/plain": [
       "0"
      ]
     },
     "execution_count": 49,
     "metadata": {},
     "output_type": "execute_result"
    }
   ],
   "source": [
    "# tcd.CSR.BWC = dma.R_TCD_CSR.E_BWC.Value('STALL_4_CYCLES')\n",
    "tcd = dma.TCD(SADDR=1234)\n",
    "# tcd.CSR.BWC = dma.R_TCD_CSR.E_BWC.Value('NO_STALLS')\n",
    "proxy.update_dma_TCD(0, tcd.SerializeToString())"
   ]
  },
  {
   "cell_type": "code",
   "execution_count": 13,
   "metadata": {
    "collapsed": false
   },
   "outputs": [
    {
     "data": {
      "text/plain": [
       "0"
      ]
     },
     "execution_count": 13,
     "metadata": {},
     "output_type": "execute_result"
    }
   ],
   "source": [
    "tcd.SADDR = 1234\n",
    "tcd.SLAST = -1\n",
    "tcd.DADDR = 4321\n",
    "tcd.DLASTSGA = -1\n",
    "tcd.NBYTES_MLNO = 4\n",
    "tcd.CSR.BWC = dma.R_TCD_CSR.E_BWC.Value('NO_STALLS')\n",
    "proxy.update_dma_TCD(0, tcd.SerializeToString())"
   ]
  },
  {
   "cell_type": "code",
   "execution_count": 45,
   "metadata": {
    "collapsed": false
   },
   "outputs": [
    {
     "data": {
      "text/plain": [
       "['0x1fffe6a0', '0x1fffe8a8']"
      ]
     },
     "execution_count": 45,
     "metadata": {},
     "output_type": "execute_result"
    }
   ],
   "source": [
    "# addr = proxy.mem_aligned_alloc_and_set(range(16), 16)\n",
    "# addr = proxy.mem_aligned_alloc(16, 24)\n",
    "# proxy.ram_free()\n",
    "N = 512\n",
    "src_addr = proxy.mem_alloc(N)\n",
    "dst_addr = proxy.mem_alloc(N)\n",
    "[hex(addr)[:-1] for addr in (src_addr, dst_addr)]"
   ]
  },
  {
   "cell_type": "code",
   "execution_count": 39,
   "metadata": {
    "collapsed": false
   },
   "outputs": [
    {
     "name": "stdout",
     "output_type": "stream",
     "text": [
      "10 loops, best of 3: 32.2 ms per loop\n"
     ]
    }
   ],
   "source": [
    "%timeit proxy.mem_cpy_device_to_host(src_addr, N)"
   ]
  },
  {
   "cell_type": "code",
   "execution_count": 40,
   "metadata": {
    "collapsed": false
   },
   "outputs": [],
   "source": [
    "for addr in (src_addr, dst_addr):\n",
    "    proxy.mem_fill_uint32(addr, 0, N / 4)"
   ]
  },
  {
   "cell_type": "code",
   "execution_count": 42,
   "metadata": {
    "collapsed": false
   },
   "outputs": [],
   "source": [
    "import numpy as np\n",
    "\n",
    "N_i = N / 2 / 2\n",
    "\n",
    "for i in xrange(2):\n",
    "    proxy.mem_cpy_host_to_device(src_addr + i * N_i * 2, np.arange(i * N_i, (i + 1) * N_i, dtype='uint16').view('uint8'))"
   ]
  },
  {
   "cell_type": "code",
   "execution_count": 43,
   "metadata": {
    "collapsed": false
   },
   "outputs": [
    {
     "name": "stdout",
     "output_type": "stream",
     "text": [
      "[  0   1   2   3   4   5   6   7   8   9  10  11  12  13  14  15  16  17\n",
      "  18  19  20  21  22  23  24  25  26  27  28  29  30  31  32  33  34  35\n",
      "  36  37  38  39  40  41  42  43  44  45  46  47  48  49  50  51  52  53\n",
      "  54  55  56  57  58  59  60  61  62  63  64  65  66  67  68  69  70  71\n",
      "  72  73  74  75  76  77  78  79  80  81  82  83  84  85  86  87  88  89\n",
      "  90  91  92  93  94  95  96  97  98  99 100 101 102 103 104 105 106 107\n",
      " 108 109 110 111 112 113 114 115 116 117 118 119 120 121 122 123 124 125\n",
      " 126 127 128 129 130 131 132 133 134 135 136 137 138 139 140 141 142 143\n",
      " 144 145 146 147 148 149 150 151 152 153 154 155 156 157 158 159 160 161\n",
      " 162 163 164 165 166 167 168 169 170 171 172 173 174 175 176 177 178 179\n",
      " 180 181 182 183 184 185 186 187 188 189 190 191 192 193 194 195 196 197\n",
      " 198 199 200 201 202 203 204 205 206 207 208 209 210 211 212 213 214 215\n",
      " 216 217 218 219 220 221 222 223 224 225 226 227 228 229 230 231 232 233\n",
      " 234 235 236 237 238 239 240 241 242 243 244 245 246 247 248 249 250 251\n",
      " 252 253 254 255]\n",
      "[0 0 0 0 0 0 0 0 0 0 0 0 0 0 0 0 0 0 0 0 0 0 0 0 0 0 0 0 0 0 0 0 0 0 0 0 0\n",
      " 0 0 0 0 0 0 0 0 0 0 0 0 0 0 0 0 0 0 0 0 0 0 0 0 0 0 0 0 0 0 0 0 0 0 0 0 0\n",
      " 0 0 0 0 0 0 0 0 0 0 0 0 0 0 0 0 0 0 0 0 0 0 0 0 0 0 0 0 0 0 0 0 0 0 0 0 0\n",
      " 0 0 0 0 0 0 0 0 0 0 0 0 0 0 0 0 0 0 0 0 0 0 0 0 0 0 0 0 0 0 0 0 0 0 0 0 0\n",
      " 0 0 0 0 0 0 0 0 0 0 0 0 0 0 0 0 0 0 0 0 0 0 0 0 0 0 0 0 0 0 0 0 0 0 0 0 0\n",
      " 0 0 0 0 0 0 0 0 0 0 0 0 0 0 0 0 0 0 0 0 0 0 0 0 0 0 0 0 0 0 0 0 0 0 0 0 0\n",
      " 0 0 0 0 0 0 0 0 0 0 0 0 0 0 0 0 0 0 0 0 0 0 0 0 0 0 0 0 0 0 0 0 0 0]\n"
     ]
    }
   ],
   "source": [
    "print proxy.mem_cpy_device_to_host(src_addr, N).view('uint16')\n",
    "print proxy.mem_cpy_device_to_host(dst_addr, N).view('uint16')"
   ]
  },
  {
   "cell_type": "code",
   "execution_count": 44,
   "metadata": {
    "collapsed": false
   },
   "outputs": [],
   "source": [
    "for addr in (src_addr, dst_addr):\n",
    "    proxy.mem_free(addr)"
   ]
  },
  {
   "cell_type": "code",
   "execution_count": 16,
   "metadata": {
    "collapsed": true
   },
   "outputs": [],
   "source": [
    "proxy.mem_fill_uint16(src_addr + 4, 65000, 4)"
   ]
  },
  {
   "cell_type": "code",
   "execution_count": 46,
   "metadata": {
    "collapsed": false
   },
   "outputs": [
    {
     "data": {
      "text/plain": [
       "array([0, 0, 0, 0, 0, 0, 0, 0], dtype=uint8)"
      ]
     },
     "execution_count": 46,
     "metadata": {},
     "output_type": "execute_result"
    }
   ],
   "source": [
    "proxy.mem_cpy_device_to_host(addr, 8)"
   ]
  },
  {
   "cell_type": "code",
   "execution_count": 4,
   "metadata": {
    "collapsed": false
   },
   "outputs": [
    {
     "data": {
      "text/plain": [
       "array([ 16, 176,   3,  64,   0,   0,  73,   1,   2,   0,   0,   0,   0,\n",
       "         0,   0,   0,   0, 144, 255,  31,   2,   0,   1,   0,   0,   0,\n",
       "         0,   0,   2,   0,   1,   0,  83, 199,  90, 166, 189,  85,   2,\n",
       "       240, 215,  39, 185, 176,  29, 237, 209, 100, 246, 252,   6, 124,\n",
       "        55,  39, 182, 205, 189,  41,  86, 246,  52,  39, 124, 100, 146,\n",
       "         7, 105, 173, 192, 114, 217,  77, 232,  46,  62,  80, 176,  79,\n",
       "       250,  94,  46, 110, 222, 235,  29, 224, 200, 148,  95, 234, 122,\n",
       "       216,   6, 205, 253, 153, 178, 219,  16, 148,  92, 173,  33, 228,\n",
       "       118, 179,   3, 111, 195, 237, 240,  29, 153,   2, 206, 148, 125,\n",
       "       163, 203,  98, 242, 134, 219,  58,  62, 163, 104,   1], dtype=uint8)"
      ]
     },
     "execution_count": 4,
     "metadata": {},
     "output_type": "execute_result"
    }
   ],
   "source": [
    "proxy.mem_cpy_device_to_host(0x40009000, 4 * 32)"
   ]
  },
  {
   "cell_type": "code",
   "execution_count": 21,
   "metadata": {
    "collapsed": false
   },
   "outputs": [
    {
     "data": {
      "text/plain": [
       "[536864172,\n",
       " 536864316,\n",
       " 536864460,\n",
       " 536864604,\n",
       " 536864748,\n",
       " 536864892,\n",
       " 536865036,\n",
       " 536865180]"
      ]
     },
     "execution_count": 21,
     "metadata": {},
     "output_type": "execute_result"
    }
   ],
   "source": [
    "addrs = [proxy.do_aligned_alloc(4, 128) for i in xrange(8)]\n",
    "addrs"
   ]
  },
  {
   "cell_type": "code",
   "execution_count": 14,
   "metadata": {
    "collapsed": false
   },
   "outputs": [
    {
     "data": {
      "text/plain": [
       "[536864172,\n",
       " 536864316,\n",
       " 536864460,\n",
       " 536864604,\n",
       " 536864748,\n",
       " 536864892,\n",
       " 536865036,\n",
       " 536865180]"
      ]
     },
     "execution_count": 14,
     "metadata": {},
     "output_type": "execute_result"
    }
   ],
   "source": [
    "addrs = [proxy.do_aligned_alloc(4, 128) for i in xrange(8)]\n",
    "addrs"
   ]
  },
  {
   "cell_type": "code",
   "execution_count": 22,
   "metadata": {
    "collapsed": true
   },
   "outputs": [],
   "source": [
    "for addr in addrs:\n",
    "    proxy.do_aligned_free(addr)"
   ]
  },
  {
   "cell_type": "code",
   "execution_count": 6,
   "metadata": {
    "collapsed": false
   },
   "outputs": [
    {
     "data": {
      "text/html": [
       "<div>\n",
       "<table border=\"1\" class=\"dataframe\">\n",
       "  <thead>\n",
       "    <tr style=\"text-align: right;\">\n",
       "      <th></th>\n",
       "      <th>full_name</th>\n",
       "      <th>value</th>\n",
       "    </tr>\n",
       "    <tr>\n",
       "      <th>parent_name</th>\n",
       "      <th></th>\n",
       "      <th></th>\n",
       "    </tr>\n",
       "  </thead>\n",
       "  <tbody>\n",
       "    <tr>\n",
       "      <th></th>\n",
       "      <td>DLASTSGA</td>\n",
       "      <td>0</td>\n",
       "    </tr>\n",
       "    <tr>\n",
       "      <th></th>\n",
       "      <td>SLAST</td>\n",
       "      <td>0</td>\n",
       "    </tr>\n",
       "    <tr>\n",
       "      <th></th>\n",
       "      <td>SOFF</td>\n",
       "      <td>0</td>\n",
       "    </tr>\n",
       "    <tr>\n",
       "      <th></th>\n",
       "      <td>DOFF</td>\n",
       "      <td>2</td>\n",
       "    </tr>\n",
       "    <tr>\n",
       "      <th></th>\n",
       "      <td>DADDR</td>\n",
       "      <td>536842240</td>\n",
       "    </tr>\n",
       "    <tr>\n",
       "      <th></th>\n",
       "      <td>SADDR</td>\n",
       "      <td>1073983504</td>\n",
       "    </tr>\n",
       "    <tr>\n",
       "      <th>CITER_ELINKNO</th>\n",
       "      <td>CITER_ELINKNO.ELINK</td>\n",
       "      <td>False</td>\n",
       "    </tr>\n",
       "    <tr>\n",
       "      <th>CITER_ELINKNO</th>\n",
       "      <td>CITER_ELINKNO.ITER</td>\n",
       "      <td>1</td>\n",
       "    </tr>\n",
       "    <tr>\n",
       "      <th>ATTR</th>\n",
       "      <td>ATTR.SMOD</td>\n",
       "      <td>0</td>\n",
       "    </tr>\n",
       "    <tr>\n",
       "      <th>ATTR</th>\n",
       "      <td>ATTR.DSIZE</td>\n",
       "      <td>_16_BIT</td>\n",
       "    </tr>\n",
       "    <tr>\n",
       "      <th>ATTR</th>\n",
       "      <td>ATTR.DMOD</td>\n",
       "      <td>9</td>\n",
       "    </tr>\n",
       "    <tr>\n",
       "      <th>ATTR</th>\n",
       "      <td>ATTR.SSIZE</td>\n",
       "      <td>_16_BIT</td>\n",
       "    </tr>\n",
       "    <tr>\n",
       "      <th>BITER_ELINKNO</th>\n",
       "      <td>BITER_ELINKNO.ELINK</td>\n",
       "      <td>False</td>\n",
       "    </tr>\n",
       "    <tr>\n",
       "      <th>BITER_ELINKNO</th>\n",
       "      <td>BITER_ELINKNO.ITER</td>\n",
       "      <td>1</td>\n",
       "    </tr>\n",
       "    <tr>\n",
       "      <th>NBYTES_MLOFFNO</th>\n",
       "      <td>NBYTES_MLOFFNO.SMLOE</td>\n",
       "      <td>False</td>\n",
       "    </tr>\n",
       "    <tr>\n",
       "      <th>NBYTES_MLOFFNO</th>\n",
       "      <td>NBYTES_MLOFFNO.DMLOE</td>\n",
       "      <td>False</td>\n",
       "    </tr>\n",
       "    <tr>\n",
       "      <th>NBYTES_MLOFFNO</th>\n",
       "      <td>NBYTES_MLOFFNO.NBYTES</td>\n",
       "      <td>2</td>\n",
       "    </tr>\n",
       "    <tr>\n",
       "      <th>CSR</th>\n",
       "      <td>CSR.INTHALF</td>\n",
       "      <td>False</td>\n",
       "    </tr>\n",
       "    <tr>\n",
       "      <th>CSR</th>\n",
       "      <td>CSR.DREQ</td>\n",
       "      <td>False</td>\n",
       "    </tr>\n",
       "    <tr>\n",
       "      <th>CSR</th>\n",
       "      <td>CSR.MAJORELINK</td>\n",
       "      <td>False</td>\n",
       "    </tr>\n",
       "    <tr>\n",
       "      <th>CSR</th>\n",
       "      <td>CSR.MAJORLINKCH</td>\n",
       "      <td>0</td>\n",
       "    </tr>\n",
       "    <tr>\n",
       "      <th>CSR</th>\n",
       "      <td>CSR.ESG</td>\n",
       "      <td>False</td>\n",
       "    </tr>\n",
       "    <tr>\n",
       "      <th>CSR</th>\n",
       "      <td>CSR.START</td>\n",
       "      <td>False</td>\n",
       "    </tr>\n",
       "    <tr>\n",
       "      <th>CSR</th>\n",
       "      <td>CSR.BWC</td>\n",
       "      <td>NO_STALLS</td>\n",
       "    </tr>\n",
       "    <tr>\n",
       "      <th>CSR</th>\n",
       "      <td>CSR.DONE</td>\n",
       "      <td>False</td>\n",
       "    </tr>\n",
       "    <tr>\n",
       "      <th>CSR</th>\n",
       "      <td>CSR.ACTIVE</td>\n",
       "      <td>False</td>\n",
       "    </tr>\n",
       "    <tr>\n",
       "      <th>CSR</th>\n",
       "      <td>CSR.INTMAJOR</td>\n",
       "      <td>True</td>\n",
       "    </tr>\n",
       "  </tbody>\n",
       "</table>\n",
       "</div>"
      ],
      "text/plain": [
       "                            full_name       value\n",
       "parent_name                                      \n",
       "                             DLASTSGA           0\n",
       "                                SLAST           0\n",
       "                                 SOFF           0\n",
       "                                 DOFF           2\n",
       "                                DADDR   536842240\n",
       "                                SADDR  1073983504\n",
       "CITER_ELINKNO     CITER_ELINKNO.ELINK       False\n",
       "CITER_ELINKNO      CITER_ELINKNO.ITER           1\n",
       "ATTR                        ATTR.SMOD           0\n",
       "ATTR                       ATTR.DSIZE     _16_BIT\n",
       "ATTR                        ATTR.DMOD           9\n",
       "ATTR                       ATTR.SSIZE     _16_BIT\n",
       "BITER_ELINKNO     BITER_ELINKNO.ELINK       False\n",
       "BITER_ELINKNO      BITER_ELINKNO.ITER           1\n",
       "NBYTES_MLOFFNO   NBYTES_MLOFFNO.SMLOE       False\n",
       "NBYTES_MLOFFNO   NBYTES_MLOFFNO.DMLOE       False\n",
       "NBYTES_MLOFFNO  NBYTES_MLOFFNO.NBYTES           2\n",
       "CSR                       CSR.INTHALF       False\n",
       "CSR                          CSR.DREQ       False\n",
       "CSR                    CSR.MAJORELINK       False\n",
       "CSR                   CSR.MAJORLINKCH           0\n",
       "CSR                           CSR.ESG       False\n",
       "CSR                         CSR.START       False\n",
       "CSR                           CSR.BWC   NO_STALLS\n",
       "CSR                          CSR.DONE       False\n",
       "CSR                        CSR.ACTIVE       False\n",
       "CSR                      CSR.INTMAJOR        True"
      ]
     },
     "execution_count": 6,
     "metadata": {},
     "output_type": "execute_result"
    }
   ],
   "source": [
    "tcd = dma.TCD.FromString(proxy.read_dma_TCD(0).tostring())\n",
    "\n",
    "df_tdc_fields = resolve_field_values(tcd)\n",
    "df_tdc_fields[['full_name', 'value']].dropna()"
   ]
  },
  {
   "cell_type": "code",
   "execution_count": 14,
   "metadata": {
    "collapsed": false
   },
   "outputs": [
    {
     "data": {
      "text/html": [
       "<div>\n",
       "<table border=\"1\" class=\"dataframe\">\n",
       "  <thead>\n",
       "    <tr style=\"text-align: right;\">\n",
       "      <th>parent_name</th>\n",
       "      <th></th>\n",
       "      <th></th>\n",
       "      <th></th>\n",
       "      <th></th>\n",
       "      <th></th>\n",
       "      <th></th>\n",
       "      <th></th>\n",
       "      <th></th>\n",
       "      <th></th>\n",
       "      <th></th>\n",
       "      <th></th>\n",
       "      <th></th>\n",
       "      <th></th>\n",
       "      <th></th>\n",
       "    </tr>\n",
       "  </thead>\n",
       "  <tbody>\n",
       "    <tr>\n",
       "      <th>full_name</th>\n",
       "      <td>USBDCD</td>\n",
       "      <td>SPI0</td>\n",
       "      <td>SPI1</td>\n",
       "      <td>RTC</td>\n",
       "      <td>FTM1</td>\n",
       "      <td>FTM0</td>\n",
       "      <td>I2S</td>\n",
       "      <td>DMAMUX</td>\n",
       "      <td>CRC</td>\n",
       "      <td>FTFL</td>\n",
       "      <td>ADC0</td>\n",
       "      <td>FLEXCAN0</td>\n",
       "      <td>PIT</td>\n",
       "      <td>PDB</td>\n",
       "    </tr>\n",
       "    <tr>\n",
       "      <th>value</th>\n",
       "      <td>False</td>\n",
       "      <td>False</td>\n",
       "      <td>False</td>\n",
       "      <td>False</td>\n",
       "      <td>True</td>\n",
       "      <td>True</td>\n",
       "      <td>False</td>\n",
       "      <td>True</td>\n",
       "      <td>False</td>\n",
       "      <td>True</td>\n",
       "      <td>True</td>\n",
       "      <td>False</td>\n",
       "      <td>False</td>\n",
       "      <td>False</td>\n",
       "    </tr>\n",
       "  </tbody>\n",
       "</table>\n",
       "</div>"
      ],
      "text/plain": [
       "parent_name                                                                 \\\n",
       "full_name    USBDCD   SPI0   SPI1    RTC  FTM1  FTM0    I2S  DMAMUX    CRC   \n",
       "value         False  False  False  False  True  True  False    True  False   \n",
       "\n",
       "parent_name                                      \n",
       "full_name    FTFL  ADC0  FLEXCAN0    PIT    PDB  \n",
       "value        True  True     False  False  False  "
      ]
     },
     "execution_count": 14,
     "metadata": {},
     "output_type": "execute_result"
    }
   ],
   "source": [
    "scgc6 = sim.R_SCGC6.FromString(proxy.read_sim_SCGC6().tostring())\n",
    "\n",
    "df_scgc6_fields = resolve_field_values(scgc6)\n",
    "df_scgc6_fields[['full_name', 'value']].dropna().T"
   ]
  },
  {
   "cell_type": "code",
   "execution_count": 29,
   "metadata": {
    "collapsed": false
   },
   "outputs": [
    {
     "data": {
      "text/html": [
       "<div>\n",
       "<table border=\"1\" class=\"dataframe\">\n",
       "  <thead>\n",
       "    <tr style=\"text-align: right;\">\n",
       "      <th>parent_name</th>\n",
       "      <th></th>\n",
       "    </tr>\n",
       "  </thead>\n",
       "  <tbody>\n",
       "    <tr>\n",
       "      <th>full_name</th>\n",
       "      <td>DMA</td>\n",
       "    </tr>\n",
       "    <tr>\n",
       "      <th>value</th>\n",
       "      <td>True</td>\n",
       "    </tr>\n",
       "  </tbody>\n",
       "</table>\n",
       "</div>"
      ],
      "text/plain": [
       "parent_name      \n",
       "full_name     DMA\n",
       "value        True"
      ]
     },
     "execution_count": 29,
     "metadata": {},
     "output_type": "execute_result"
    }
   ],
   "source": [
    "scgc7 = sim.R_SCGC7.FromString(proxy.read_sim_SCGC7().tostring())\n",
    "\n",
    "df_scgc7_fields = resolve_field_values(scgc7)\n",
    "df_scgc7_fields[['full_name', 'value']].dropna().T"
   ]
  },
  {
   "cell_type": "code",
   "execution_count": 43,
   "metadata": {
    "collapsed": false
   },
   "outputs": [
    {
     "data": {
      "text/plain": [
       "1"
      ]
     },
     "execution_count": 43,
     "metadata": {},
     "output_type": "execute_result"
    }
   ],
   "source": [
    "proxy.startSingleRead(teensy.A1, teensy.ADC_0)"
   ]
  },
  {
   "cell_type": "code",
   "execution_count": 58,
   "metadata": {
    "collapsed": false
   },
   "outputs": [
    {
     "data": {
      "text/plain": [
       "array([0, 0], dtype=uint16)"
      ]
     },
     "execution_count": 58,
     "metadata": {},
     "output_type": "execute_result"
    }
   ],
   "source": [
    "proxy.adc_read()"
   ]
  },
  {
   "cell_type": "code",
   "execution_count": 65,
   "metadata": {
    "collapsed": false
   },
   "outputs": [
    {
     "data": {
      "text/html": [
       "<div>\n",
       "<table border=\"1\" class=\"dataframe\">\n",
       "  <thead>\n",
       "    <tr style=\"text-align: right;\">\n",
       "      <th></th>\n",
       "      <th>full_name</th>\n",
       "      <th>value</th>\n",
       "      <th>short_description</th>\n",
       "    </tr>\n",
       "    <tr>\n",
       "      <th>parent_name</th>\n",
       "      <th></th>\n",
       "      <th></th>\n",
       "      <th></th>\n",
       "    </tr>\n",
       "  </thead>\n",
       "  <tbody>\n",
       "    <tr>\n",
       "      <th></th>\n",
       "      <td>RB</td>\n",
       "      <td>0</td>\n",
       "      <td>ADC Data Result Register</td>\n",
       "    </tr>\n",
       "    <tr>\n",
       "      <th></th>\n",
       "      <td>RA</td>\n",
       "      <td>0</td>\n",
       "      <td>ADC Data Result Register</td>\n",
       "    </tr>\n",
       "    <tr>\n",
       "      <th>CFG2</th>\n",
       "      <td>CFG2.MUXSEL</td>\n",
       "      <td>A</td>\n",
       "      <td>ADC mux select</td>\n",
       "    </tr>\n",
       "    <tr>\n",
       "      <th>CFG2</th>\n",
       "      <td>CFG2.ADLSTS</td>\n",
       "      <td>ADD_6_ADCK_CYCLES</td>\n",
       "      <td>Long sample time select</td>\n",
       "    </tr>\n",
       "    <tr>\n",
       "      <th>CFG2</th>\n",
       "      <td>CFG2.ADHSC</td>\n",
       "      <td>True</td>\n",
       "      <td>High-speed configuration</td>\n",
       "    </tr>\n",
       "    <tr>\n",
       "      <th>CFG2</th>\n",
       "      <td>CFG2.ADACKEN</td>\n",
       "      <td>False</td>\n",
       "      <td>Asynchronous clock output enable</td>\n",
       "    </tr>\n",
       "    <tr>\n",
       "      <th>CFG1</th>\n",
       "      <td>CFG1.ADLSMP</td>\n",
       "      <td>SHORT</td>\n",
       "      <td>Sample time configuration</td>\n",
       "    </tr>\n",
       "    <tr>\n",
       "      <th>CFG1</th>\n",
       "      <td>CFG1.ADICLK</td>\n",
       "      <td>BUS_CLOCK_DIV_2</td>\n",
       "      <td>Input clock select</td>\n",
       "    </tr>\n",
       "    <tr>\n",
       "      <th>CFG1</th>\n",
       "      <td>CFG1.MODE</td>\n",
       "      <td>_10_BIT</td>\n",
       "      <td>Conversion mode selection</td>\n",
       "    </tr>\n",
       "    <tr>\n",
       "      <th>CFG1</th>\n",
       "      <td>CFG1.ADIV</td>\n",
       "      <td>ONE</td>\n",
       "      <td>Clock divide select</td>\n",
       "    </tr>\n",
       "    <tr>\n",
       "      <th>CFG1</th>\n",
       "      <td>CFG1.ADLPC</td>\n",
       "      <td>False</td>\n",
       "      <td>Low-power configuration</td>\n",
       "    </tr>\n",
       "    <tr>\n",
       "      <th>SC1A</th>\n",
       "      <td>SC1A.COCO</td>\n",
       "      <td>False</td>\n",
       "      <td>Conversion complete flag</td>\n",
       "    </tr>\n",
       "    <tr>\n",
       "      <th>SC1A</th>\n",
       "      <td>SC1A.DIFF</td>\n",
       "      <td>False</td>\n",
       "      <td>Differential mode enable</td>\n",
       "    </tr>\n",
       "    <tr>\n",
       "      <th>SC1A</th>\n",
       "      <td>SC1A.AIEN</td>\n",
       "      <td>True</td>\n",
       "      <td>Interrupt enable</td>\n",
       "    </tr>\n",
       "    <tr>\n",
       "      <th>SC1A</th>\n",
       "      <td>SC1A.ADCH</td>\n",
       "      <td>31</td>\n",
       "      <td>Input channel select</td>\n",
       "    </tr>\n",
       "    <tr>\n",
       "      <th>SC1B</th>\n",
       "      <td>SC1B.COCO</td>\n",
       "      <td>False</td>\n",
       "      <td>Conversion complete flag</td>\n",
       "    </tr>\n",
       "    <tr>\n",
       "      <th>SC1B</th>\n",
       "      <td>SC1B.DIFF</td>\n",
       "      <td>False</td>\n",
       "      <td>Differential mode enable</td>\n",
       "    </tr>\n",
       "    <tr>\n",
       "      <th>SC1B</th>\n",
       "      <td>SC1B.AIEN</td>\n",
       "      <td>False</td>\n",
       "      <td>Interrupt enable</td>\n",
       "    </tr>\n",
       "    <tr>\n",
       "      <th>SC1B</th>\n",
       "      <td>SC1B.ADCH</td>\n",
       "      <td>31</td>\n",
       "      <td>Input channel select</td>\n",
       "    </tr>\n",
       "    <tr>\n",
       "      <th>PGA</th>\n",
       "      <td>PGA.PGAEN</td>\n",
       "      <td>False</td>\n",
       "      <td>PGA enable</td>\n",
       "    </tr>\n",
       "    <tr>\n",
       "      <th>PGA</th>\n",
       "      <td>PGA.PGALPb</td>\n",
       "      <td>False</td>\n",
       "      <td>PGA low-power mode control</td>\n",
       "    </tr>\n",
       "    <tr>\n",
       "      <th>PGA</th>\n",
       "      <td>PGA.PGAG</td>\n",
       "      <td>_1</td>\n",
       "      <td>PGA Gain setting, $PGA~gain = 2^{PGAG}$</td>\n",
       "    </tr>\n",
       "    <tr>\n",
       "      <th>SC3</th>\n",
       "      <td>SC3.AVGE</td>\n",
       "      <td>True</td>\n",
       "      <td>Hardware average enable</td>\n",
       "    </tr>\n",
       "    <tr>\n",
       "      <th>SC3</th>\n",
       "      <td>SC3.ADCO</td>\n",
       "      <td>False</td>\n",
       "      <td>Continuous conversion enable</td>\n",
       "    </tr>\n",
       "    <tr>\n",
       "      <th>SC3</th>\n",
       "      <td>SC3.AVGS</td>\n",
       "      <td>_4</td>\n",
       "      <td>Hardware average select</td>\n",
       "    </tr>\n",
       "    <tr>\n",
       "      <th>SC3</th>\n",
       "      <td>SC3.CALF</td>\n",
       "      <td>False</td>\n",
       "      <td>Calibration failed flag</td>\n",
       "    </tr>\n",
       "    <tr>\n",
       "      <th>SC3</th>\n",
       "      <td>SC3.CAL</td>\n",
       "      <td>False</td>\n",
       "      <td>Calibration</td>\n",
       "    </tr>\n",
       "    <tr>\n",
       "      <th>SC2</th>\n",
       "      <td>SC2.DMAEN</td>\n",
       "      <td>True</td>\n",
       "      <td>DMA enable</td>\n",
       "    </tr>\n",
       "    <tr>\n",
       "      <th>SC2</th>\n",
       "      <td>SC2.REFSEL</td>\n",
       "      <td>DEFAULT</td>\n",
       "      <td>Voltage reference selection</td>\n",
       "    </tr>\n",
       "    <tr>\n",
       "      <th>SC2</th>\n",
       "      <td>SC2.ADACT</td>\n",
       "      <td>False</td>\n",
       "      <td>Conversion active</td>\n",
       "    </tr>\n",
       "    <tr>\n",
       "      <th>SC2</th>\n",
       "      <td>SC2.ACFGT</td>\n",
       "      <td>False</td>\n",
       "      <td>Compare function greater than enable</td>\n",
       "    </tr>\n",
       "    <tr>\n",
       "      <th>SC2</th>\n",
       "      <td>SC2.ADTRG</td>\n",
       "      <td>SOFTWARE</td>\n",
       "      <td>Conversion trigger select</td>\n",
       "    </tr>\n",
       "    <tr>\n",
       "      <th>SC2</th>\n",
       "      <td>SC2.ACREN</td>\n",
       "      <td>False</td>\n",
       "      <td>Compare function range enable</td>\n",
       "    </tr>\n",
       "    <tr>\n",
       "      <th>SC2</th>\n",
       "      <td>SC2.ACFE</td>\n",
       "      <td>False</td>\n",
       "      <td>Compare function enable</td>\n",
       "    </tr>\n",
       "  </tbody>\n",
       "</table>\n",
       "</div>"
      ],
      "text/plain": [
       "                full_name              value  \\\n",
       "parent_name                                    \n",
       "                       RB                  0   \n",
       "                       RA                  0   \n",
       "CFG2          CFG2.MUXSEL                  A   \n",
       "CFG2          CFG2.ADLSTS  ADD_6_ADCK_CYCLES   \n",
       "CFG2           CFG2.ADHSC               True   \n",
       "CFG2         CFG2.ADACKEN              False   \n",
       "CFG1          CFG1.ADLSMP              SHORT   \n",
       "CFG1          CFG1.ADICLK    BUS_CLOCK_DIV_2   \n",
       "CFG1            CFG1.MODE            _10_BIT   \n",
       "CFG1            CFG1.ADIV                ONE   \n",
       "CFG1           CFG1.ADLPC              False   \n",
       "SC1A            SC1A.COCO              False   \n",
       "SC1A            SC1A.DIFF              False   \n",
       "SC1A            SC1A.AIEN               True   \n",
       "SC1A            SC1A.ADCH                 31   \n",
       "SC1B            SC1B.COCO              False   \n",
       "SC1B            SC1B.DIFF              False   \n",
       "SC1B            SC1B.AIEN              False   \n",
       "SC1B            SC1B.ADCH                 31   \n",
       "PGA             PGA.PGAEN              False   \n",
       "PGA            PGA.PGALPb              False   \n",
       "PGA              PGA.PGAG                 _1   \n",
       "SC3              SC3.AVGE               True   \n",
       "SC3              SC3.ADCO              False   \n",
       "SC3              SC3.AVGS                 _4   \n",
       "SC3              SC3.CALF              False   \n",
       "SC3               SC3.CAL              False   \n",
       "SC2             SC2.DMAEN               True   \n",
       "SC2            SC2.REFSEL            DEFAULT   \n",
       "SC2             SC2.ADACT              False   \n",
       "SC2             SC2.ACFGT              False   \n",
       "SC2             SC2.ADTRG           SOFTWARE   \n",
       "SC2             SC2.ACREN              False   \n",
       "SC2              SC2.ACFE              False   \n",
       "\n",
       "                                   short_description  \n",
       "parent_name                                           \n",
       "                            ADC Data Result Register  \n",
       "                            ADC Data Result Register  \n",
       "CFG2                                  ADC mux select  \n",
       "CFG2                         Long sample time select  \n",
       "CFG2                        High-speed configuration  \n",
       "CFG2                Asynchronous clock output enable  \n",
       "CFG1                       Sample time configuration  \n",
       "CFG1                              Input clock select  \n",
       "CFG1                       Conversion mode selection  \n",
       "CFG1                             Clock divide select  \n",
       "CFG1                         Low-power configuration  \n",
       "SC1A                        Conversion complete flag  \n",
       "SC1A                        Differential mode enable  \n",
       "SC1A                                Interrupt enable  \n",
       "SC1A                            Input channel select  \n",
       "SC1B                        Conversion complete flag  \n",
       "SC1B                        Differential mode enable  \n",
       "SC1B                                Interrupt enable  \n",
       "SC1B                            Input channel select  \n",
       "PGA                                       PGA enable  \n",
       "PGA                       PGA low-power mode control  \n",
       "PGA          PGA Gain setting, $PGA~gain = 2^{PGAG}$  \n",
       "SC3                          Hardware average enable  \n",
       "SC3                     Continuous conversion enable  \n",
       "SC3                          Hardware average select  \n",
       "SC3                          Calibration failed flag  \n",
       "SC3                                      Calibration  \n",
       "SC2                                       DMA enable  \n",
       "SC2                      Voltage reference selection  \n",
       "SC2                                Conversion active  \n",
       "SC2             Compare function greater than enable  \n",
       "SC2                        Conversion trigger select  \n",
       "SC2                    Compare function range enable  \n",
       "SC2                          Compare function enable  "
      ]
     },
     "execution_count": 65,
     "metadata": {},
     "output_type": "execute_result"
    }
   ],
   "source": [
    "adc0_registers = adc.Registers.FromString(proxy.read_adc_registers(0).tostring())\n",
    "df_fields = resolve_field_values(adc0_registers).join(ADC_DESCRIPTIONS, on='full_name') \n",
    "df_fields.loc[(df_fields.index != '') |\n",
    "              df_fields.full_name.str.startswith('R'),\n",
    "              ['full_name', 'value', 'short_description']]"
   ]
  },
  {
   "cell_type": "code",
   "execution_count": 24,
   "metadata": {
    "collapsed": false
   },
   "outputs": [
    {
     "data": {
      "text/plain": [
       "5"
      ]
     },
     "execution_count": 24,
     "metadata": {},
     "output_type": "execute_result"
    }
   ],
   "source": [
    "teensy.adc.SC1A_TO_CHANNEL_ADC0[df_fields.set_index('full_name').loc['SC1A.ADCH'].value]\n",
    "teensy.adc.CHANNEL_TO_SC1A_ADC0[teensy.A0]"
   ]
  },
  {
   "cell_type": "code",
   "execution_count": 16,
   "metadata": {
    "collapsed": false
   },
   "outputs": [
    {
     "data": {
      "text/plain": [
       "1023"
      ]
     },
     "execution_count": 16,
     "metadata": {},
     "output_type": "execute_result"
    }
   ],
   "source": [
    "proxy.analogRead(teensy.A0, teensy.ADC_0)"
   ]
  },
  {
   "cell_type": "code",
   "execution_count": 36,
   "metadata": {
    "collapsed": false
   },
   "outputs": [
    {
     "data": {
      "text/plain": [
       "[('teensy._3_1.ADC_REGISTERS.SC1A', <ADC_pb2.R_SC1 at 0xa2b6630>),\n",
       " ('teensy._3_1.ADC_REGISTERS.SC1B', <ADC_pb2.R_SC1 at 0xa2b6770>),\n",
       " ('teensy._3_1.ADC_REGISTERS.CFG1', <ADC_pb2.R_CFG1 at 0xa2b6670>),\n",
       " ('teensy._3_1.ADC_REGISTERS.CFG2', <ADC_pb2.R_CFG2 at 0xa2b66b0>),\n",
       " ('teensy._3_1.ADC_REGISTERS.RA', 0),\n",
       " ('teensy._3_1.ADC_REGISTERS.RB', 0),\n",
       " ('teensy._3_1.ADC_REGISTERS.CV1', 0),\n",
       " ('teensy._3_1.ADC_REGISTERS.CV2', 0),\n",
       " ('teensy._3_1.ADC_REGISTERS.SC2', <ADC_pb2.R_SC2 at 0xa2b67b0>),\n",
       " ('teensy._3_1.ADC_REGISTERS.SC3', <ADC_pb2.R_SC3 at 0xa2b67f0>),\n",
       " ('teensy._3_1.ADC_REGISTERS.OFS', 65535),\n",
       " ('teensy._3_1.ADC_REGISTERS.PG', 33479),\n",
       " ('teensy._3_1.ADC_REGISTERS.MG', 33444),\n",
       " ('teensy._3_1.ADC_REGISTERS.CLPD', 18),\n",
       " ('teensy._3_1.ADC_REGISTERS.CLPS', 46),\n",
       " ('teensy._3_1.ADC_REGISTERS.CLP4', 705),\n",
       " ('teensy._3_1.ADC_REGISTERS.CLP3', 356),\n",
       " ('teensy._3_1.ADC_REGISTERS.CLP2', 179),\n",
       " ('teensy._3_1.ADC_REGISTERS.CLP1', 91),\n",
       " ('teensy._3_1.ADC_REGISTERS.CLP0', 45),\n",
       " ('teensy._3_1.ADC_REGISTERS.PGA', <ADC_pb2.R_PGA at 0xa2b6830>),\n",
       " ('teensy._3_1.ADC_REGISTERS.CLMD', 17),\n",
       " ('teensy._3_1.ADC_REGISTERS.CLMS', 43),\n",
       " ('teensy._3_1.ADC_REGISTERS.CLM4', 672),\n",
       " ('teensy._3_1.ADC_REGISTERS.CLM3', 339),\n",
       " ('teensy._3_1.ADC_REGISTERS.CLM2', 170),\n",
       " ('teensy._3_1.ADC_REGISTERS.CLM1', 87),\n",
       " ('teensy._3_1.ADC_REGISTERS.CLM0', 42)]"
      ]
     },
     "execution_count": 36,
     "metadata": {},
     "output_type": "execute_result"
    }
   ],
   "source": [
    "[(k.full_name, v) for k, v in adc0_registers.ListFields()]"
   ]
  },
  {
   "cell_type": "code",
   "execution_count": 11,
   "metadata": {
    "collapsed": false
   },
   "outputs": [
    {
     "data": {
      "text/plain": [
       "True"
      ]
     },
     "execution_count": 11,
     "metadata": {},
     "output_type": "execute_result"
    }
   ],
   "source": [
    "adc0_registers.SC3."
   ]
  },
  {
   "cell_type": "code",
   "execution_count": 140,
   "metadata": {
    "collapsed": false
   },
   "outputs": [],
   "source": [
    "proxy.start_timer(20)"
   ]
  },
  {
   "cell_type": "code",
   "execution_count": 141,
   "metadata": {
    "collapsed": true
   },
   "outputs": [],
   "source": [
    "%matplotlib inline"
   ]
  },
  {
   "cell_type": "code",
   "execution_count": 219,
   "metadata": {
    "collapsed": false
   },
   "outputs": [],
   "source": [
    "frames = []\n",
    "for i in xrange(100):\n",
    "    result = proxy.adc_read()\n",
    "    adc_count = result[:2].view('uint32')[0]\n",
    "    channel_start_i = [0, 1]\n",
    "    channel_readings = result[2:]\n",
    "\n",
    "    #frame = pd.DataFrame([[adc_count[0], adc_count, channel_readings[0]]],\n",
    "                         #columns=['count', 'adc_count', 'reading'])\n",
    "    frame = pd.DataFrame(channel_readings, columns=['reading'])\n",
    "    frame.insert(0, 'adc_count', adc_count)\n",
    "    frame.insert(0, 'i', i)\n",
    "    frames.append(frame)\n",
    "    \n",
    "readings = pd.concat(frames)"
   ]
  },
  {
   "cell_type": "code",
   "execution_count": 227,
   "metadata": {
    "collapsed": false
   },
   "outputs": [
    {
     "data": {
      "text/plain": [
       "256"
      ]
     },
     "execution_count": 227,
     "metadata": {},
     "output_type": "execute_result"
    }
   ],
   "source": [
    "import numpy as np\n",
    "# print pd.Series(channel_readings[channel_start_i[0]::2]).describe()\n",
    "# print pd.Series(channel_readings[channel_start_i[1]::2]).describe()\n",
    "\n",
    "df_i = readings.reset_index(drop=True)\n",
    "df_i['offset'] = df_i.groupby('i')['adc_count'].transform(lambda v: v & 0x01)\n",
    "\n",
    "count_scan = np.zeros(df_i.i.unique().shape[0], dtype='uint')\n",
    "count_scan[1:] = df_i.groupby('i')['adc_count'].count().cumsum()[:-1]\n",
    "df_i.loc[:, 'count_exc_scan'] = count_scan[df_i['i']]\n",
    "df_i['group_i'] = np.arange(df_i.shape[0]) - df_i['count_exc_scan'] \n",
    "df_i['channel_i'] = 0\n",
    "df_i.loc[(df_i.group_i & 0x01 == 1) & (df_i.offset == 0), 'channel_i'] = 1\n",
    "df_i.loc[(df_i.group_i & 0x01 == 0) & (df_i.offset == 1), 'channel_i'] = 1\n",
    "df_i.drop('count_exc_scan', axis=1, inplace=True)\n",
    "df_i.loc[(df_i.channel_i == 0) & (df_i.reading < 1000),\n",
    "         ['group_i', 'channel_i', 'reading']].shape[0]"
   ]
  },
  {
   "cell_type": "code",
   "execution_count": 123,
   "metadata": {
    "collapsed": false
   },
   "outputs": [
    {
     "data": {
      "text/plain": [
       "256"
      ]
     },
     "execution_count": 123,
     "metadata": {},
     "output_type": "execute_result"
    }
   ],
   "source": [
    "proxy.dma_available()"
   ]
  },
  {
   "cell_type": "code",
   "execution_count": null,
   "metadata": {
    "collapsed": true
   },
   "outputs": [],
   "source": [
    "import numpy as np"
   ]
  },
  {
   "cell_type": "code",
   "execution_count": null,
   "metadata": {
    "collapsed": false
   },
   "outputs": [],
   "source": [
    "def leading_zeros(value, bits=32):\n",
    "    for i in xrange(bits, 0, -1):\n",
    "        if (value >> (bits - i)) == 1:\n",
    "            return i - 1\n",
    "    return bits\n",
    "\n",
    "\n",
    "(31 - leading_zeros(256)) << 3"
   ]
  },
  {
   "cell_type": "code",
   "execution_count": null,
   "metadata": {
    "collapsed": false
   },
   "outputs": [],
   "source": [
    "9 << 3"
   ]
  },
  {
   "cell_type": "code",
   "execution_count": null,
   "metadata": {
    "collapsed": false
   },
   "outputs": [],
   "source": [
    "import time\n",
    "\n",
    "\n",
    "N = 32\n",
    "\n",
    "# proxy.dma_start(1 << int(np.ceil(np.log2(N))))\n",
    "proxy.dma_start(256)\n",
    "for i in range(N): proxy.startSingleRead(teensy.A0, teensy.ADC_0)\n",
    "# time.sleep(0.01)\n",
    "result = proxy.adc_read()\n",
    "print result.shape[0]\n",
    "result"
   ]
  },
  {
   "cell_type": "code",
   "execution_count": null,
   "metadata": {
    "collapsed": false
   },
   "outputs": [],
   "source": [
    "result = proxy.adc_read()\n",
    "result.shape[0], result.mean()"
   ]
  },
  {
   "cell_type": "code",
   "execution_count": null,
   "metadata": {
    "collapsed": false
   },
   "outputs": [],
   "source": [
    "proxy.start_timer(5)"
   ]
  },
  {
   "cell_type": "code",
   "execution_count": null,
   "metadata": {
    "collapsed": false
   },
   "outputs": [],
   "source": [
    "1 / 100e3 / 1e-6"
   ]
  },
  {
   "cell_type": "code",
   "execution_count": null,
   "metadata": {
    "collapsed": false
   },
   "outputs": [],
   "source": [
    "proxy.adc_period_us()"
   ]
  },
  {
   "cell_type": "code",
   "execution_count": null,
   "metadata": {
    "collapsed": false
   },
   "outputs": [],
   "source": [
    "import time\n",
    "\n",
    "\n",
    "proxy.startContinuous(teensy.A0, teensy.ADC_0)\n",
    "while proxy.dma_available() < N: time.sleep(0.001)\n",
    "proxy.stopContinuous(teensy.ADC_0)\n",
    "proxy.adc_read()"
   ]
  },
  {
   "cell_type": "code",
   "execution_count": null,
   "metadata": {
    "collapsed": false
   },
   "outputs": [],
   "source": [
    "proxy.enableInterrupts(teensy.ADC_0)"
   ]
  },
  {
   "cell_type": "code",
   "execution_count": null,
   "metadata": {
    "collapsed": false
   },
   "outputs": [],
   "source": [
    "proxy.adc_timestamp_us()"
   ]
  },
  {
   "cell_type": "code",
   "execution_count": null,
   "metadata": {
    "collapsed": false
   },
   "outputs": [],
   "source": [
    "# for i in range(128): proxy.startSingleRead(teensy.A0, teensy.ADC_0)\n",
    "# proxy.startSingleRead(teensy.A0, teensy.ADC_0)\n"
   ]
  },
  {
   "cell_type": "code",
   "execution_count": null,
   "metadata": {
    "collapsed": false
   },
   "outputs": [],
   "source": [
    "from datetime import datetime, timedelta\n",
    "\n",
    "start = datetime.now()\n",
    "start_us = proxy.microseconds()\n",
    "proxy.startContinuous(teensy.A0, teensy.ADC_0)\n",
    "proxy.stopContinuous(teensy.ADC_0)\n",
    "start + timedelta(microseconds=proxy.adc_timestamp_us() - start_us), proxy.adc_read()"
   ]
  },
  {
   "cell_type": "code",
   "execution_count": null,
   "metadata": {
    "collapsed": false
   },
   "outputs": [],
   "source": [
    "import time\n",
    "\n",
    "import pandas as pd\n",
    "\n",
    "ADC_SPEEDS = pd.Series(['ADC_VERY_LOW_SPEED',\n",
    "                        'ADC_LOW_SPEED',\n",
    "                        'ADC_MED_SPEED',\n",
    "                        # 'ADC_HIGH_SPEED_16BITS',\n",
    "                        'ADC_HIGH_SPEED',\n",
    "                        'ADC_VERY_HIGH_SPEED'],\n",
    "                       index=[teensy.ADC_VERY_LOW_SPEED,\n",
    "                              teensy.ADC_LOW_SPEED,\n",
    "                              teensy.ADC_MED_SPEED,\n",
    "                              # teensy.ADC_HIGH_SPEED_16BITS,\n",
    "                              teensy.ADC_HIGH_SPEED,\n",
    "                              teensy.ADC_VERY_HIGH_SPEED])\n",
    "\n",
    "\n",
    "def benchmark_adc(proxy):\n",
    "    rows = []\n",
    "\n",
    "    for conversion_i, conversion_speed in ADC_SPEEDS.iteritems():\n",
    "        for sampling_i, sampling_speed in ADC_SPEEDS.iteritems():\n",
    "            for averaging in (0, 4, 8, 16, 32):\n",
    "                for resolution in (8, 10, 12):\n",
    "                    if [conversion_i, sampling_i, averaging] == [5, 5, 0]:\n",
    "                        continue\n",
    "                    print '.', \n",
    "                    try:\n",
    "                        proxy.setAveraging(averaging, teensy.ADC_0)\n",
    "                        proxy.setResolution(resolution, teensy.ADC_0)\n",
    "                        proxy.setConversionSpeed(conversion_i, teensy.ADC_0)\n",
    "                        proxy.setSamplingSpeed(sampling_i, teensy.ADC_0)\n",
    "\n",
    "                        proxy.startContinuous(teensy.A0, teensy.ADC_0)\n",
    "                        time.sleep(0.001)\n",
    "                        proxy.stopContinuous(teensy.ADC_0)\n",
    "                        period_us = proxy.adc_period_us()\n",
    "                    except IOError:\n",
    "                        print 'Failed for %s' % [conversion_i, sampling_i, averaging,\n",
    "                                                 resolution]\n",
    "                        raise\n",
    "                    row = [conversion_i, sampling_i, averaging,\n",
    "                           resolution, period_us]\n",
    "                    rows.append(row)\n",
    "\n",
    "    df_adc_benchmarks =  pd.DataFrame(rows, columns=['conversion_i',\n",
    "                                                     'sampling_i',\n",
    "                                                     'averaging',\n",
    "                                                     'resolution',\n",
    "                                                     'period_us'])\n",
    "    df_adc_benchmarks.loc[df_adc_benchmarks.period_us < 0, 'period_us'] += 1000\n",
    "#     df_adc_benchmarks.set_index(['conversion_speed', 'sampling_speed',\n",
    "#                                  'averaging', 'resolution'], inplace=True)\n",
    "    df_adc_benchmarks['sampling_rate_Hz'] = 1e6 / df_adc_benchmarks['period_us']\n",
    "    return df_adc_benchmarks"
   ]
  },
  {
   "cell_type": "code",
   "execution_count": null,
   "metadata": {
    "collapsed": false
   },
   "outputs": [],
   "source": [
    "df_adc_benchmarks = benchmark_adc(proxy)"
   ]
  },
  {
   "cell_type": "code",
   "execution_count": null,
   "metadata": {
    "collapsed": true
   },
   "outputs": [],
   "source": [
    "%matplotlib inline"
   ]
  },
  {
   "cell_type": "code",
   "execution_count": 365,
   "metadata": {
    "collapsed": false
   },
   "outputs": [
    {
     "data": {
      "text/plain": [
       "5"
      ]
     },
     "execution_count": 365,
     "metadata": {},
     "output_type": "execute_result"
    }
   ],
   "source": [
    "teensy.ADC_VERY_HIGH_SPEED"
   ]
  },
  {
   "cell_type": "code",
   "execution_count": null,
   "metadata": {
    "collapsed": false
   },
   "outputs": [],
   "source": [
    "from si_prefix import si_format\n",
    "\n",
    "\n",
    "df_i = (df_adc_benchmarks.loc[(df_adc_benchmarks.resolution > 8) &\n",
    "                              (df_adc_benchmarks.averaging > 0) &\n",
    "                              (df_adc_benchmarks.sampling_rate_Hz >= 100e3)]\n",
    "        .sort_values(by=['sampling_rate_Hz', 'resolution', 'conversion_i', 'sampling_i'],\n",
    "                     ascending=False))\n",
    "df_i['conversion_speed'] = ADC_SPEEDS[df_i.conversion_i].values\n",
    "df_i['sampling_speed'] = ADC_SPEEDS[df_i.sampling_i].values\n",
    "df_i['sampling_rate'] = df_i.sampling_rate_Hz.map(si_format)\n",
    "df_i[['sampling_rate', 'averaging', 'resolution', 'conversion_speed', 'sampling_speed']]"
   ]
  },
  {
   "cell_type": "code",
   "execution_count": null,
   "metadata": {
    "collapsed": false
   },
   "outputs": [],
   "source": [
    "df_i[['sampling_rate', 'averaging', 'resolution', 'conversion_speed', 'sampling_speed']]\n",
    "axis = (df_i.set_index(['averaging', 'resolution', 'conversion_speed', 'sampling_speed'])\n",
    "        ['sampling_rate_Hz']).plot(rot=90, style='o')\n",
    "axis.set_yticklabels(['%sHz' % si_format(v) for v in axis.get_yticks()])\n",
    "# axis.get_figure().savefig('test.pdf', bbox_inches='tight')\n",
    "pass"
   ]
  },
  {
   "cell_type": "code",
   "execution_count": null,
   "metadata": {
    "collapsed": true
   },
   "outputs": [],
   "source": [
    "fig.savefig"
   ]
  },
  {
   "cell_type": "code",
   "execution_count": null,
   "metadata": {
    "collapsed": false
   },
   "outputs": [],
   "source": [
    "import time\n",
    "\n",
    "import pandas as pd"
   ]
  },
  {
   "cell_type": "code",
   "execution_count": null,
   "metadata": {
    "collapsed": false
   },
   "outputs": [],
   "source": [
    "proxy.adc_period_us()"
   ]
  },
  {
   "cell_type": "code",
   "execution_count": null,
   "metadata": {
    "collapsed": true
   },
   "outputs": [],
   "source": [
    "proxy.digital_write(13, 0)"
   ]
  },
  {
   "cell_type": "code",
   "execution_count": null,
   "metadata": {
    "collapsed": false
   },
   "outputs": [],
   "source": [
    "proxy.startContinuous(teensy.A0, teensy.ADC_0)"
   ]
  },
  {
   "cell_type": "code",
   "execution_count": null,
   "metadata": {
    "collapsed": false
   },
   "outputs": [],
   "source": [
    "proxy.stopContinuous(teensy.ADC_0)"
   ]
  },
  {
   "cell_type": "code",
   "execution_count": null,
   "metadata": {
    "collapsed": false
   },
   "outputs": [],
   "source": [
    "proxy.isContinuous(teensy.ADC_0)"
   ]
  },
  {
   "cell_type": "code",
   "execution_count": null,
   "metadata": {
    "collapsed": false
   },
   "outputs": [],
   "source": [
    "if proxy.dma_available() > 0:\n",
    "    print proxy.dma_read()\n",
    "proxy.adc_buffer(), proxy.dma_available()"
   ]
  },
  {
   "cell_type": "code",
   "execution_count": null,
   "metadata": {
    "collapsed": false
   },
   "outputs": [],
   "source": [
    "proxy.startSingleRead(teensy.A0, teensy.ADC_0)"
   ]
  },
  {
   "cell_type": "code",
   "execution_count": null,
   "metadata": {
    "collapsed": false
   },
   "outputs": [],
   "source": [
    "proxy.dma_available(), proxy.dma_empty(), proxy.dma_full()"
   ]
  },
  {
   "cell_type": "code",
   "execution_count": null,
   "metadata": {
    "collapsed": false
   },
   "outputs": [],
   "source": [
    "proxy.dma_read()"
   ]
  },
  {
   "cell_type": "code",
   "execution_count": null,
   "metadata": {
    "collapsed": false
   },
   "outputs": [],
   "source": [
    "proxy.start_timer(10)"
   ]
  },
  {
   "cell_type": "code",
   "execution_count": null,
   "metadata": {
    "collapsed": true
   },
   "outputs": [],
   "source": [
    "%matplotlib inline\n",
    "import pandas as pd"
   ]
  },
  {
   "cell_type": "code",
   "execution_count": null,
   "metadata": {
    "collapsed": true
   },
   "outputs": [],
   "source": [
    "from datetime import datetime"
   ]
  },
  {
   "cell_type": "code",
   "execution_count": null,
   "metadata": {
    "collapsed": true
   },
   "outputs": [],
   "source": [
    "proxy.setAveraging(0, -1)"
   ]
  },
  {
   "cell_type": "code",
   "execution_count": null,
   "metadata": {
    "collapsed": false
   },
   "outputs": [],
   "source": [
    "data = pd.DataFrame([(proxy.analogRead(0, -1), datetime.now()) for i in xrange(200)],\n",
    "                    columns=['reading', 'timestamp'])\n",
    "data.set_index('timestamp').plot()"
   ]
  },
  {
   "cell_type": "code",
   "execution_count": null,
   "metadata": {
    "collapsed": false
   },
   "outputs": [],
   "source": [
    "proxy.adc_buffer"
   ]
  },
  {
   "cell_type": "code",
   "execution_count": null,
   "metadata": {
    "collapsed": false
   },
   "outputs": [],
   "source": [
    "40 * proxy.benchmark_flops(10e3) / 10e3"
   ]
  },
  {
   "cell_type": "code",
   "execution_count": null,
   "metadata": {
    "collapsed": false
   },
   "outputs": [],
   "source": [
    "40 * proxy.benchmark_iops(10e3) / 10e3"
   ]
  },
  {
   "cell_type": "code",
   "execution_count": null,
   "metadata": {
    "collapsed": true
   },
   "outputs": [],
   "source": [
    "import sys\n",
    "sys.path.insert(0, r'C:\\Users\\Christian\\Documents\\GitHub\\ring-buffer-testbench')"
   ]
  },
  {
   "cell_type": "code",
   "execution_count": null,
   "metadata": {
    "collapsed": true
   },
   "outputs": [],
   "source": [
    "from ring_buffer_testbench.cRingBuffer import cRingBuffer"
   ]
  },
  {
   "cell_type": "code",
   "execution_count": null,
   "metadata": {
    "collapsed": true
   },
   "outputs": [],
   "source": [
    "ring_buffer = cRingBuffer()"
   ]
  },
  {
   "cell_type": "code",
   "execution_count": null,
   "metadata": {
    "collapsed": false
   },
   "outputs": [],
   "source": [
    "ring_buffer.elems(), ring_buffer.b_start, ring_buffer.b_end"
   ]
  }
 ],
 "metadata": {
  "kernelspec": {
   "display_name": "Python 2",
   "language": "python",
   "name": "python2"
  },
  "language_info": {
   "codemirror_mode": {
    "name": "ipython",
    "version": 2
   },
   "file_extension": ".py",
   "mimetype": "text/x-python",
   "name": "python",
   "nbconvert_exporter": "python",
   "pygments_lexer": "ipython2",
   "version": "2.7.9"
  }
 },
 "nbformat": 4,
 "nbformat_minor": 0
}
